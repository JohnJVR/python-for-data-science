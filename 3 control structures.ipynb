{
 "cells": [
  {
   "cell_type": "markdown",
   "id": "026d9b61",
   "metadata": {},
   "source": [
    "### 1 Control structures"
   ]
  },
  {
   "cell_type": "markdown",
   "id": "cc3fa8dc",
   "metadata": {},
   "source": [
    " ### 1.1 user input"
   ]
  },
  {
   "cell_type": "code",
   "execution_count": 47,
   "id": "ce112d15",
   "metadata": {},
   "outputs": [],
   "source": [
    "# Input -> It always  returns  as a string data type"
   ]
  },
  {
   "cell_type": "code",
   "execution_count": 48,
   "id": "70c8427e",
   "metadata": {},
   "outputs": [
    {
     "name": "stdout",
     "output_type": "stream",
     "text": [
      "Enter your score50\n"
     ]
    }
   ],
   "source": [
    "score=input(\"Enter your score\")"
   ]
  },
  {
   "cell_type": "code",
   "execution_count": 49,
   "id": "909dcf31",
   "metadata": {},
   "outputs": [
    {
     "name": "stdout",
     "output_type": "stream",
     "text": [
      "50\n"
     ]
    }
   ],
   "source": [
    "print(score)"
   ]
  },
  {
   "cell_type": "code",
   "execution_count": 50,
   "id": "d1b4b955",
   "metadata": {},
   "outputs": [
    {
     "data": {
      "text/plain": [
       "str"
      ]
     },
     "execution_count": 50,
     "metadata": {},
     "output_type": "execute_result"
    }
   ],
   "source": [
    "type(score)"
   ]
  },
  {
   "cell_type": "markdown",
   "id": "f8bd8903",
   "metadata": {},
   "source": [
    "### 1.2 if / if-else / if-elif-else"
   ]
  },
  {
   "cell_type": "code",
   "execution_count": 10,
   "id": "f6b410dc",
   "metadata": {},
   "outputs": [
    {
     "name": "stdout",
     "output_type": "stream",
     "text": [
      "enter an number :-50\n"
     ]
    }
   ],
   "source": [
    "number=input(\"enter an number :\")"
   ]
  },
  {
   "cell_type": "code",
   "execution_count": 11,
   "id": "adcb4dc1",
   "metadata": {},
   "outputs": [],
   "source": [
    "number=int(number)"
   ]
  },
  {
   "cell_type": "code",
   "execution_count": 12,
   "id": "783d240d",
   "metadata": {},
   "outputs": [
    {
     "name": "stdout",
     "output_type": "stream",
     "text": [
      "-50 <class 'int'>\n"
     ]
    }
   ],
   "source": [
    "print(number,type(number))"
   ]
  },
  {
   "cell_type": "code",
   "execution_count": 13,
   "id": "a4665ce5",
   "metadata": {},
   "outputs": [
    {
     "name": "stdout",
     "output_type": "stream",
     "text": [
      "User Enteres negative number\n"
     ]
    }
   ],
   "source": [
    "if number > 0:\n",
    "    print(\"User Entered positive number\")\n",
    "else:\n",
    "    print(\"User Enteres negative number\")    "
   ]
  },
  {
   "cell_type": "code",
   "execution_count": 17,
   "id": "4add8902",
   "metadata": {},
   "outputs": [
    {
     "name": "stdout",
     "output_type": "stream",
     "text": [
      "enter an number :8\n",
      "user entered +ve number\n"
     ]
    }
   ],
   "source": [
    "number=input(\"enter an number :\")\n",
    "number=int(number)\n",
    "if number > 0:\n",
    "    print(\"user entered +ve number\")\n",
    "else:\n",
    "    print(\"User entered -ve number\")"
   ]
  },
  {
   "cell_type": "code",
   "execution_count": 22,
   "id": "88fccc0b",
   "metadata": {},
   "outputs": [
    {
     "name": "stdout",
     "output_type": "stream",
     "text": [
      "enter an number :0\n",
      "User Entered zero number\n"
     ]
    }
   ],
   "source": [
    "number=input(\"enter an number :\")\n",
    "number=int(number)\n",
    "if number > 0:\n",
    "    print(\"user entered +ve number\")\n",
    "elif number ==0:\n",
    "    print(\"User Entered zero number\")\n",
    "else:\n",
    "    print(\"User entered -ve number\")"
   ]
  },
  {
   "cell_type": "markdown",
   "id": "aaac970c",
   "metadata": {},
   "source": [
    "number=input(\"enter an number :\")\n",
    "number=int(number)\n",
    "if number > 0:\n",
    "    print(\"user entered +ve number\")\n",
    "elif number ==0:\n",
    "    print(\"User Entered zero number\")\n",
    "else:\n",
    "    print(\"User entered -ve number\")"
   ]
  },
  {
   "cell_type": "markdown",
   "id": "db1c5aa6",
   "metadata": {},
   "source": [
    "#### 1.3 program to calculate bmi"
   ]
  },
  {
   "cell_type": "code",
   "execution_count": 71,
   "id": "f180e2e4",
   "metadata": {},
   "outputs": [
    {
     "name": "stdout",
     "output_type": "stream",
     "text": [
      "Enter your Weight: 80\n",
      "Enter your Height: 1.65\n",
      "Person is Over Weight\n"
     ]
    }
   ],
   "source": [
    "weight=float(input(\"Enter your Weight: \"))\n",
    "Height=float(input(\"Enter your Height: \"))\n",
    "bmi=weight/(Height**2)\n",
    "if bmi<=18.5:\n",
    "    print(\"Person is Underweight\")\n",
    "elif bmi<=25.0:\n",
    "    print(\"Person is Noemal\")\n",
    "elif bmi<=30:\n",
    "    print(\"Person is Over Weight\")\n",
    "else:\n",
    "    print(\"Person is Obese\")"
   ]
  },
  {
   "cell_type": "code",
   "execution_count": 73,
   "id": "753dede9",
   "metadata": {},
   "outputs": [
    {
     "name": "stdout",
     "output_type": "stream",
     "text": [
      "Enter your Weight: 65\n",
      "Enter your Height: 1.65\n",
      "Person is Normal\n"
     ]
    }
   ],
   "source": [
    "Weight=float(input(\"Enter your Weight: \"))\n",
    "Height=float(input(\"Enter your Height: \"))\n",
    "bmi=Weight/(Height**2)\n",
    "if bmi<=18.5:\n",
    "    print(\"Person is Underweight\")\n",
    "elif bmi<=25.0:\n",
    "    print(\"Person is Normal\")\n",
    "elif bmi<=30:\n",
    "    print(\"Person is Over Weight\")\n",
    "else:\n",
    "    print(\"Person is Obese\")"
   ]
  },
  {
   "cell_type": "markdown",
   "id": "4b8866d9",
   "metadata": {},
   "source": [
    "### while"
   ]
  },
  {
   "cell_type": "code",
   "execution_count": 80,
   "id": "74a60172",
   "metadata": {},
   "outputs": [
    {
     "name": "stdout",
     "output_type": "stream",
     "text": [
      "1\n",
      "2\n",
      "3\n",
      "4\n",
      "5\n",
      "6\n",
      "7\n",
      "8\n",
      "9\n",
      "10\n"
     ]
    }
   ],
   "source": [
    "index = 1\n",
    "while index <= 10:\n",
    "    print(index)\n",
    "    index +=1 # index = index+1"
   ]
  },
  {
   "cell_type": "markdown",
   "id": "a0274206",
   "metadata": {},
   "source": [
    "### 1.5 Range"
   ]
  },
  {
   "cell_type": "code",
   "execution_count": 81,
   "id": "1d3f8662",
   "metadata": {},
   "outputs": [],
   "source": [
    "r=range(5,50,10)"
   ]
  },
  {
   "cell_type": "code",
   "execution_count": 82,
   "id": "48e78a3a",
   "metadata": {},
   "outputs": [
    {
     "data": {
      "text/plain": [
       "range(5, 50, 10)"
      ]
     },
     "execution_count": 82,
     "metadata": {},
     "output_type": "execute_result"
    }
   ],
   "source": [
    "r"
   ]
  },
  {
   "cell_type": "code",
   "execution_count": 83,
   "id": "1d645992",
   "metadata": {},
   "outputs": [
    {
     "data": {
      "text/plain": [
       "[5, 15, 25, 35, 45]"
      ]
     },
     "execution_count": 83,
     "metadata": {},
     "output_type": "execute_result"
    }
   ],
   "source": [
    "list(r)"
   ]
  },
  {
   "cell_type": "code",
   "execution_count": 85,
   "id": "76a5a4a6",
   "metadata": {},
   "outputs": [
    {
     "name": "stdout",
     "output_type": "stream",
     "text": [
      "5\n",
      "15\n",
      "25\n",
      "35\n",
      "45\n"
     ]
    }
   ],
   "source": [
    "for item in r:\n",
    "    print(item)"
   ]
  },
  {
   "cell_type": "code",
   "execution_count": 88,
   "id": "fcab2f80",
   "metadata": {},
   "outputs": [
    {
     "name": "stdout",
     "output_type": "stream",
     "text": [
      "10\n",
      "20\n",
      "30\n",
      "40\n",
      "50\n",
      "60\n",
      "70\n",
      "80\n",
      "90\n"
     ]
    }
   ],
   "source": [
    "z=range(10,100,10)\n",
    "for item in z:\n",
    "    print(item)"
   ]
  },
  {
   "cell_type": "code",
   "execution_count": 89,
   "id": "b677a07d",
   "metadata": {},
   "outputs": [
    {
     "ename": "TypeError",
     "evalue": "'<=' not supported between instances of 'tuple' and 'int'",
     "output_type": "error",
     "traceback": [
      "\u001b[1;31m---------------------------------------------------------------------------\u001b[0m",
      "\u001b[1;31mTypeError\u001b[0m                                 Traceback (most recent call last)",
      "Input \u001b[1;32mIn [89]\u001b[0m, in \u001b[0;36m<cell line: 2>\u001b[1;34m()\u001b[0m\n\u001b[0;32m      1\u001b[0m z \u001b[38;5;241m=\u001b[39m (\u001b[38;5;241m10\u001b[39m,\u001b[38;5;241m100\u001b[39m,\u001b[38;5;241m10\u001b[39m)\n\u001b[1;32m----> 2\u001b[0m \u001b[38;5;28;01mwhile\u001b[39;00m \u001b[43mz\u001b[49m\u001b[43m \u001b[49m\u001b[38;5;241;43m<\u001b[39;49m\u001b[38;5;241;43m=\u001b[39;49m\u001b[43m \u001b[49m\u001b[38;5;241;43m100\u001b[39;49m:\n\u001b[0;32m      3\u001b[0m     \u001b[38;5;28;01mfor\u001b[39;00m item \u001b[38;5;129;01min\u001b[39;00m z:\n\u001b[0;32m      4\u001b[0m         \u001b[38;5;28mprint\u001b[39m(item)\n",
      "\u001b[1;31mTypeError\u001b[0m: '<=' not supported between instances of 'tuple' and 'int'"
     ]
    }
   ],
   "source": [
    "# z = (10,100,10)\n",
    "# while z <= 100:\n",
    "#     for item in z:\n",
    "#         print(item)\n"
   ]
  },
  {
   "cell_type": "markdown",
   "id": "52674236",
   "metadata": {},
   "source": [
    "### 1.6 for + list"
   ]
  },
  {
   "cell_type": "code",
   "execution_count": 90,
   "id": "2034bcb6",
   "metadata": {},
   "outputs": [],
   "source": [
    "web = ['flipkart','amazon','snapdeal','google']"
   ]
  },
  {
   "cell_type": "code",
   "execution_count": 91,
   "id": "2ef82006",
   "metadata": {},
   "outputs": [
    {
     "data": {
      "text/plain": [
       "list"
      ]
     },
     "execution_count": 91,
     "metadata": {},
     "output_type": "execute_result"
    }
   ],
   "source": [
    "type(web)"
   ]
  },
  {
   "cell_type": "code",
   "execution_count": 92,
   "id": "4f45bf3c",
   "metadata": {},
   "outputs": [
    {
     "name": "stdout",
     "output_type": "stream",
     "text": [
      "www.flipkart.com\n",
      "www.amazon.com\n",
      "www.snapdeal.com\n",
      "www.google.com\n"
     ]
    }
   ],
   "source": [
    "for item in web:\n",
    "    print(\"www.\"+item+\".com\")"
   ]
  },
  {
   "cell_type": "code",
   "execution_count": 94,
   "id": "92ca1a5c",
   "metadata": {},
   "outputs": [
    {
     "name": "stdout",
     "output_type": "stream",
     "text": [
      "www.flipkart.com\n",
      "www.amazon.com\n",
      "www.snapdeal.com\n",
      "www.google.com\n"
     ]
    }
   ],
   "source": [
    "# Another way\n",
    "for item in web:\n",
    "    print(\"www.{}.com\".format(item))"
   ]
  },
  {
   "cell_type": "code",
   "execution_count": 140,
   "id": "d6d5761a",
   "metadata": {},
   "outputs": [],
   "source": [
    "# Get Desired like below\n",
    "# www.amazon.com\n",
    "# www.amazon.org\n",
    "# www.amazon.in\n",
    "# www.flipkart.com\n",
    "# www.flipkart.org\n",
    "# www.flipkart.in\n",
    "# www.paytm.com\n",
    "# www.paytm.org\n",
    "# www.paytm.in\n",
    "# www.google.com\n",
    "# www.google.org\n",
    "# www.google.in"
   ]
  },
  {
   "cell_type": "code",
   "execution_count": 103,
   "id": "e3076d36",
   "metadata": {},
   "outputs": [],
   "source": [
    "web= ['amazon','flipkart','paytm','google']\n",
    "ext = ['com','org','in']"
   ]
  },
  {
   "cell_type": "code",
   "execution_count": 121,
   "id": "5a71b6ad",
   "metadata": {},
   "outputs": [
    {
     "name": "stdout",
     "output_type": "stream",
     "text": [
      "www.amazon.ext\n",
      "www.flipkart.ext\n",
      "www.paytm.ext\n",
      "www.google.ext\n"
     ]
    }
   ],
   "source": [
    "for item in web:\n",
    "    print(\"www.\"+item+\".ext\")"
   ]
  },
  {
   "cell_type": "code",
   "execution_count": 132,
   "id": "c13afdd4",
   "metadata": {},
   "outputs": [
    {
     "name": "stdout",
     "output_type": "stream",
     "text": [
      "amazon\n",
      "flipkart\n",
      "paytm\n",
      "google\n"
     ]
    }
   ],
   "source": [
    "web= ['amazon','flipkart','paytm','google']\n",
    "for item in web:\n",
    "    print(item)"
   ]
  },
  {
   "cell_type": "code",
   "execution_count": 135,
   "id": "4ad9908e",
   "metadata": {},
   "outputs": [
    {
     "name": "stdout",
     "output_type": "stream",
     "text": [
      "com\n",
      "org\n",
      "in\n"
     ]
    }
   ],
   "source": [
    "ext = ['com','org','in']\n",
    "for ex in ext:\n",
    "    print(ex)"
   ]
  },
  {
   "cell_type": "code",
   "execution_count": 139,
   "id": "818ef735",
   "metadata": {},
   "outputs": [
    {
     "name": "stdout",
     "output_type": "stream",
     "text": [
      "www.amazon.com\n",
      "www.amazon.org\n",
      "www.amazon.in\n",
      "www.flipkart.com\n",
      "www.flipkart.org\n",
      "www.flipkart.in\n",
      "www.paytm.com\n",
      "www.paytm.org\n",
      "www.paytm.in\n",
      "www.google.com\n",
      "www.google.org\n",
      "www.google.in\n"
     ]
    }
   ],
   "source": [
    "for item in web:\n",
    "    for ex in ext:\n",
    "        print(\"www.{}.{}\".format(item,ex))"
   ]
  },
  {
   "cell_type": "markdown",
   "id": "a6422713",
   "metadata": {},
   "source": [
    "### 1.7 for+dict"
   ]
  },
  {
   "cell_type": "code",
   "execution_count": 141,
   "id": "d9ba3777",
   "metadata": {},
   "outputs": [],
   "source": [
    "cap={'Name' : 'Dhoni' ,'Age': 42, 'Team':'CSK','Role':'Captain'}"
   ]
  },
  {
   "cell_type": "code",
   "execution_count": 142,
   "id": "a8ffc21e",
   "metadata": {},
   "outputs": [
    {
     "data": {
      "text/plain": [
       "dict_keys(['Name', 'Age', 'Team', 'Role'])"
      ]
     },
     "execution_count": 142,
     "metadata": {},
     "output_type": "execute_result"
    }
   ],
   "source": [
    "cap.keys()"
   ]
  },
  {
   "cell_type": "code",
   "execution_count": 143,
   "id": "7143ee30",
   "metadata": {},
   "outputs": [
    {
     "name": "stdout",
     "output_type": "stream",
     "text": [
      "Name\n",
      "Age\n",
      "Team\n",
      "Role\n"
     ]
    }
   ],
   "source": [
    "# Iterate through keys\n",
    "for item in cap:\n",
    "    print(item)"
   ]
  },
  {
   "cell_type": "code",
   "execution_count": 147,
   "id": "c7bead99",
   "metadata": {},
   "outputs": [
    {
     "name": "stdout",
     "output_type": "stream",
     "text": [
      "Dhoni\n",
      "42\n",
      "CSK\n",
      "Captain\n"
     ]
    }
   ],
   "source": [
    "# Iterate through keys\n",
    "for item in cap.values():\n",
    "    print(item)"
   ]
  },
  {
   "cell_type": "code",
   "execution_count": 148,
   "id": "4763c6b4",
   "metadata": {},
   "outputs": [
    {
     "data": {
      "text/plain": [
       "dict_values(['Dhoni', 42, 'CSK', 'Captain'])"
      ]
     },
     "execution_count": 148,
     "metadata": {},
     "output_type": "execute_result"
    }
   ],
   "source": [
    "cap.values()"
   ]
  },
  {
   "cell_type": "code",
   "execution_count": 151,
   "id": "bad15208",
   "metadata": {},
   "outputs": [
    {
     "name": "stdout",
     "output_type": "stream",
     "text": [
      "Name Dhoni\n",
      "Age 42\n",
      "Team CSK\n",
      "Role Captain\n"
     ]
    }
   ],
   "source": [
    "for key, value in cap.items():\n",
    "    print(key, value)"
   ]
  },
  {
   "cell_type": "code",
   "execution_count": 152,
   "id": "26a08155",
   "metadata": {},
   "outputs": [
    {
     "data": {
      "text/plain": [
       "dict_items([('Name', 'Dhoni'), ('Age', 42), ('Team', 'CSK'), ('Role', 'Captain')])"
      ]
     },
     "execution_count": 152,
     "metadata": {},
     "output_type": "execute_result"
    }
   ],
   "source": [
    "cap.items()"
   ]
  },
  {
   "cell_type": "markdown",
   "id": "f73a7efc",
   "metadata": {},
   "source": [
    "#### 1.8 break"
   ]
  },
  {
   "cell_type": "code",
   "execution_count": 153,
   "id": "2791a294",
   "metadata": {},
   "outputs": [
    {
     "name": "stdout",
     "output_type": "stream",
     "text": [
      "1\n",
      "2\n",
      "3\n",
      "4\n",
      "5\n",
      "6\n",
      "7\n",
      "8\n",
      "9\n",
      "10\n"
     ]
    }
   ],
   "source": [
    "for item in range(1,11):\n",
    "    print(item)"
   ]
  },
  {
   "cell_type": "code",
   "execution_count": 155,
   "id": "f4f83f19",
   "metadata": {},
   "outputs": [
    {
     "name": "stdout",
     "output_type": "stream",
     "text": [
      "1\n",
      "2\n",
      "3\n",
      "4\n",
      "5\n",
      "6\n"
     ]
    }
   ],
   "source": [
    "for item in range(1,11):\n",
    "    print(item)\n",
    "    if item == 6:\n",
    "        break  # Iteration stops at 6"
   ]
  },
  {
   "cell_type": "code",
   "execution_count": 156,
   "id": "1d824c1d",
   "metadata": {},
   "outputs": [
    {
     "data": {
      "text/plain": [
       "44"
      ]
     },
     "execution_count": 156,
     "metadata": {},
     "output_type": "execute_result"
    }
   ],
   "source": [
    "22 +22"
   ]
  },
  {
   "cell_type": "code",
   "execution_count": 157,
   "id": "4ff8c7ec",
   "metadata": {},
   "outputs": [
    {
     "data": {
      "text/plain": [
       "0"
      ]
     },
     "execution_count": 157,
     "metadata": {},
     "output_type": "execute_result"
    }
   ],
   "source": [
    "22 - 22"
   ]
  },
  {
   "cell_type": "code",
   "execution_count": 158,
   "id": "296a4eeb",
   "metadata": {},
   "outputs": [
    {
     "data": {
      "text/plain": [
       "4.4"
      ]
     },
     "execution_count": 158,
     "metadata": {},
     "output_type": "execute_result"
    }
   ],
   "source": [
    "22 / 5"
   ]
  },
  {
   "cell_type": "code",
   "execution_count": 159,
   "id": "73a3a261",
   "metadata": {},
   "outputs": [
    {
     "data": {
      "text/plain": [
       "2"
      ]
     },
     "execution_count": 159,
     "metadata": {},
     "output_type": "execute_result"
    }
   ],
   "source": [
    "22 % 5 # % -> Modulus operator it gives only the reminder"
   ]
  },
  {
   "cell_type": "markdown",
   "id": "e10b9c29",
   "metadata": {},
   "source": [
    "### 1.9 Continue"
   ]
  },
  {
   "cell_type": "code",
   "execution_count": 160,
   "id": "cdf24c6a",
   "metadata": {},
   "outputs": [
    {
     "name": "stdout",
     "output_type": "stream",
     "text": [
      "1\n",
      "2\n",
      "3\n",
      "4\n",
      "5\n",
      "6\n",
      "7\n",
      "8\n",
      "9\n",
      "10\n",
      "11\n",
      "12\n",
      "13\n",
      "14\n",
      "15\n",
      "16\n",
      "17\n",
      "18\n",
      "19\n"
     ]
    }
   ],
   "source": [
    "for item in range(1,20):\n",
    "    print(item)"
   ]
  },
  {
   "cell_type": "code",
   "execution_count": 162,
   "id": "1ab6282f",
   "metadata": {},
   "outputs": [
    {
     "name": "stdout",
     "output_type": "stream",
     "text": [
      "1\n",
      "3\n",
      "5\n",
      "7\n",
      "9\n",
      "11\n",
      "13\n",
      "15\n",
      "17\n",
      "19\n"
     ]
    }
   ],
   "source": [
    "for i in range(1,20):\n",
    "    if i % 2 == 0:\n",
    "        continue\n",
    "    print(i) # It prints only odd numbers because the % of reminder is 0 dont stop but continue to the next itreation"
   ]
  },
  {
   "cell_type": "code",
   "execution_count": 165,
   "id": "1065002a",
   "metadata": {},
   "outputs": [
    {
     "name": "stdout",
     "output_type": "stream",
     "text": [
      "1 3 5 7 9 11 13 15 17 19 "
     ]
    }
   ],
   "source": [
    "for i in range(1,20):\n",
    "    if i % 2 == 0:\n",
    "        continue\n",
    "    print(i, end=\" \") # It prints only odd numbers because the % of reminder is 0 dont stop but continue to the next itreation"
   ]
  }
 ],
 "metadata": {
  "kernelspec": {
   "display_name": "Python 3 (ipykernel)",
   "language": "python",
   "name": "python3"
  },
  "language_info": {
   "codemirror_mode": {
    "name": "ipython",
    "version": 3
   },
   "file_extension": ".py",
   "mimetype": "text/x-python",
   "name": "python",
   "nbconvert_exporter": "python",
   "pygments_lexer": "ipython3",
   "version": "3.8.8"
  }
 },
 "nbformat": 4,
 "nbformat_minor": 5
}
