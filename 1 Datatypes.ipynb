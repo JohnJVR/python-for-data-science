{
 "cells": [
  {
   "cell_type": "markdown",
   "id": "2d8742a6",
   "metadata": {},
   "source": [
    "## Intro to Datatypes"
   ]
  },
  {
   "cell_type": "code",
   "execution_count": 1,
   "id": "a96f6887",
   "metadata": {},
   "outputs": [],
   "source": [
    "i=20"
   ]
  },
  {
   "cell_type": "code",
   "execution_count": 2,
   "id": "956dd17e",
   "metadata": {},
   "outputs": [
    {
     "data": {
      "text/plain": [
       "20"
      ]
     },
     "execution_count": 2,
     "metadata": {},
     "output_type": "execute_result"
    }
   ],
   "source": [
    "i"
   ]
  },
  {
   "cell_type": "code",
   "execution_count": 3,
   "id": "b8bc7b83",
   "metadata": {},
   "outputs": [
    {
     "data": {
      "text/plain": [
       "int"
      ]
     },
     "execution_count": 3,
     "metadata": {},
     "output_type": "execute_result"
    }
   ],
   "source": [
    "type(i)"
   ]
  },
  {
   "cell_type": "code",
   "execution_count": 4,
   "id": "17dc8666",
   "metadata": {},
   "outputs": [
    {
     "name": "stdout",
     "output_type": "stream",
     "text": [
      "20\n"
     ]
    }
   ],
   "source": [
    "print(i)"
   ]
  },
  {
   "cell_type": "code",
   "execution_count": 5,
   "id": "daa2fa43",
   "metadata": {},
   "outputs": [
    {
     "name": "stdout",
     "output_type": "stream",
     "text": [
      "<class 'int'>\n"
     ]
    }
   ],
   "source": [
    "print(type(i))"
   ]
  },
  {
   "cell_type": "markdown",
   "id": "b6e7cba2",
   "metadata": {},
   "source": [
    "##### i is the object of type integer and as of now its holding value of 20"
   ]
  },
  {
   "cell_type": "markdown",
   "id": "75343c86",
   "metadata": {},
   "source": [
    "## Strings"
   ]
  },
  {
   "cell_type": "code",
   "execution_count": 6,
   "id": "1d9ae851",
   "metadata": {},
   "outputs": [],
   "source": [
    "# strings - a collection of characters\n",
    "# can be defined using either double quotes or single quotes\n",
    "# strings are IMMUTABLE "
   ]
  },
  {
   "cell_type": "code",
   "execution_count": 88,
   "id": "0c3bb0d5",
   "metadata": {},
   "outputs": [],
   "source": [
    "s=\"welcome john\""
   ]
  },
  {
   "cell_type": "code",
   "execution_count": 8,
   "id": "63ba7afa",
   "metadata": {},
   "outputs": [],
   "source": [
    "z='john welcome'"
   ]
  },
  {
   "cell_type": "code",
   "execution_count": 10,
   "id": "483346e4",
   "metadata": {},
   "outputs": [
    {
     "name": "stdout",
     "output_type": "stream",
     "text": [
      "welcome john\n"
     ]
    }
   ],
   "source": [
    "print(s)"
   ]
  },
  {
   "cell_type": "code",
   "execution_count": 11,
   "id": "32bd3345",
   "metadata": {},
   "outputs": [
    {
     "name": "stdout",
     "output_type": "stream",
     "text": [
      "john welcome\n"
     ]
    }
   ],
   "source": [
    "print(z)"
   ]
  },
  {
   "cell_type": "code",
   "execution_count": 12,
   "id": "8c8b63d2",
   "metadata": {},
   "outputs": [],
   "source": [
    "# # -> used to specify any comments\n",
    "# len -> used to find the length of the string"
   ]
  },
  {
   "cell_type": "code",
   "execution_count": 13,
   "id": "5a12d1c6",
   "metadata": {},
   "outputs": [
    {
     "data": {
      "text/plain": [
       "12"
      ]
     },
     "execution_count": 13,
     "metadata": {},
     "output_type": "execute_result"
    }
   ],
   "source": [
    "len(s)"
   ]
  },
  {
   "cell_type": "code",
   "execution_count": 14,
   "id": "b35c7e68",
   "metadata": {},
   "outputs": [
    {
     "data": {
      "text/plain": [
       "12"
      ]
     },
     "execution_count": 14,
     "metadata": {},
     "output_type": "execute_result"
    }
   ],
   "source": [
    "len(z)"
   ]
  },
  {
   "cell_type": "code",
   "execution_count": 15,
   "id": "84a3bb01",
   "metadata": {},
   "outputs": [
    {
     "data": {
      "text/plain": [
       "str"
      ]
     },
     "execution_count": 15,
     "metadata": {},
     "output_type": "execute_result"
    }
   ],
   "source": [
    "type(s)"
   ]
  },
  {
   "cell_type": "code",
   "execution_count": 16,
   "id": "8023f3d9",
   "metadata": {},
   "outputs": [
    {
     "data": {
      "text/plain": [
       "str"
      ]
     },
     "execution_count": 16,
     "metadata": {},
     "output_type": "execute_result"
    }
   ],
   "source": [
    "type(z)"
   ]
  },
  {
   "cell_type": "markdown",
   "id": "f6037a7e",
   "metadata": {},
   "source": [
    "### Indexing"
   ]
  },
  {
   "cell_type": "code",
   "execution_count": 17,
   "id": "de3352bf",
   "metadata": {},
   "outputs": [],
   "source": [
    "# -> The index starts from o to length (-1)\n",
    "# To access any element, always use subscript operator []"
   ]
  },
  {
   "cell_type": "code",
   "execution_count": 37,
   "id": "9157a75d",
   "metadata": {},
   "outputs": [
    {
     "data": {
      "text/plain": [
       "'welcome john'"
      ]
     },
     "execution_count": 37,
     "metadata": {},
     "output_type": "execute_result"
    }
   ],
   "source": [
    "s"
   ]
  },
  {
   "cell_type": "code",
   "execution_count": 19,
   "id": "ff6522e2",
   "metadata": {},
   "outputs": [
    {
     "data": {
      "text/plain": [
       "'w'"
      ]
     },
     "execution_count": 19,
     "metadata": {},
     "output_type": "execute_result"
    }
   ],
   "source": [
    "s[0]"
   ]
  },
  {
   "cell_type": "code",
   "execution_count": 20,
   "id": "6593cf4f",
   "metadata": {},
   "outputs": [
    {
     "data": {
      "text/plain": [
       "'c'"
      ]
     },
     "execution_count": 20,
     "metadata": {},
     "output_type": "execute_result"
    }
   ],
   "source": [
    "s[3]"
   ]
  },
  {
   "cell_type": "code",
   "execution_count": 26,
   "id": "d2430da8",
   "metadata": {},
   "outputs": [
    {
     "data": {
      "text/plain": [
       "'h'"
      ]
     },
     "execution_count": 26,
     "metadata": {},
     "output_type": "execute_result"
    }
   ],
   "source": [
    "s[-2] # Negative Indexing"
   ]
  },
  {
   "cell_type": "code",
   "execution_count": 23,
   "id": "05cb20c9",
   "metadata": {},
   "outputs": [
    {
     "data": {
      "text/plain": [
       "'n'"
      ]
     },
     "execution_count": 23,
     "metadata": {},
     "output_type": "execute_result"
    }
   ],
   "source": [
    "s[11]"
   ]
  },
  {
   "cell_type": "code",
   "execution_count": 25,
   "id": "4e2ac320",
   "metadata": {},
   "outputs": [
    {
     "ename": "IndexError",
     "evalue": "string index out of range",
     "output_type": "error",
     "traceback": [
      "\u001b[1;31m---------------------------------------------------------------------------\u001b[0m",
      "\u001b[1;31mIndexError\u001b[0m                                Traceback (most recent call last)",
      "Input \u001b[1;32mIn [25]\u001b[0m, in \u001b[0;36m<cell line: 1>\u001b[1;34m()\u001b[0m\n\u001b[1;32m----> 1\u001b[0m \u001b[43ms\u001b[49m\u001b[43m[\u001b[49m\u001b[38;5;241;43m12\u001b[39;49m\u001b[43m]\u001b[49m\n",
      "\u001b[1;31mIndexError\u001b[0m: string index out of range"
     ]
    }
   ],
   "source": [
    "s[12] # it gives index error coz im trying out of the range of its index"
   ]
  },
  {
   "cell_type": "markdown",
   "id": "18bc8e2f",
   "metadata": {},
   "source": [
    "### Slicing"
   ]
  },
  {
   "cell_type": "code",
   "execution_count": 33,
   "id": "132eb6d5",
   "metadata": {},
   "outputs": [],
   "source": [
    "# Extracts substring from a string\n",
    "# syntax: <startposition> : <endposition> : <skopcpunt / direction>\n",
    "# startposition -> included, endposition -> excluded"
   ]
  },
  {
   "cell_type": "code",
   "execution_count": 30,
   "id": "e62ec59d",
   "metadata": {},
   "outputs": [
    {
     "data": {
      "text/plain": [
       "'welc'"
      ]
     },
     "execution_count": 30,
     "metadata": {},
     "output_type": "execute_result"
    }
   ],
   "source": [
    "s[0:4]"
   ]
  },
  {
   "cell_type": "code",
   "execution_count": 32,
   "id": "e6de779f",
   "metadata": {},
   "outputs": [
    {
     "data": {
      "text/plain": [
       "'we'"
      ]
     },
     "execution_count": 32,
     "metadata": {},
     "output_type": "execute_result"
    }
   ],
   "source": [
    "s[0:2]"
   ]
  },
  {
   "cell_type": "code",
   "execution_count": 34,
   "id": "4c82ec2d",
   "metadata": {},
   "outputs": [
    {
     "data": {
      "text/plain": [
       "''"
      ]
     },
     "execution_count": 34,
     "metadata": {},
     "output_type": "execute_result"
    }
   ],
   "source": [
    "s[-1:-4]"
   ]
  },
  {
   "cell_type": "code",
   "execution_count": 39,
   "id": "afcc079c",
   "metadata": {},
   "outputs": [
    {
     "data": {
      "text/plain": [
       "'me jo'"
      ]
     },
     "execution_count": 39,
     "metadata": {},
     "output_type": "execute_result"
    }
   ],
   "source": [
    "s[-7:10]"
   ]
  },
  {
   "cell_type": "code",
   "execution_count": 41,
   "id": "3a070f4f",
   "metadata": {},
   "outputs": [
    {
     "data": {
      "text/plain": [
       "'wel'"
      ]
     },
     "execution_count": 41,
     "metadata": {},
     "output_type": "execute_result"
    }
   ],
   "source": [
    "s[-100:3]"
   ]
  },
  {
   "cell_type": "code",
   "execution_count": 42,
   "id": "cf402820",
   "metadata": {},
   "outputs": [
    {
     "data": {
      "text/plain": [
       "'welcome john'"
      ]
     },
     "execution_count": 42,
     "metadata": {},
     "output_type": "execute_result"
    }
   ],
   "source": [
    "s[:]"
   ]
  },
  {
   "cell_type": "code",
   "execution_count": 43,
   "id": "ebb9495c",
   "metadata": {},
   "outputs": [
    {
     "ename": "SyntaxError",
     "evalue": "invalid syntax (1085298815.py, line 1)",
     "output_type": "error",
     "traceback": [
      "\u001b[1;36m  Input \u001b[1;32mIn [43]\u001b[1;36m\u001b[0m\n\u001b[1;33m    s[]\u001b[0m\n\u001b[1;37m      ^\u001b[0m\n\u001b[1;31mSyntaxError\u001b[0m\u001b[1;31m:\u001b[0m invalid syntax\n"
     ]
    }
   ],
   "source": [
    "s[]"
   ]
  },
  {
   "cell_type": "code",
   "execution_count": 45,
   "id": "d8a8adac",
   "metadata": {},
   "outputs": [
    {
     "data": {
      "text/plain": [
       "'wloejh'"
      ]
     },
     "execution_count": 45,
     "metadata": {},
     "output_type": "execute_result"
    }
   ],
   "source": [
    "s[::2] # step count of two with alternative values"
   ]
  },
  {
   "cell_type": "code",
   "execution_count": 47,
   "id": "c70936a4",
   "metadata": {},
   "outputs": [
    {
     "data": {
      "text/plain": [
       "'wceo'"
      ]
     },
     "execution_count": 47,
     "metadata": {},
     "output_type": "execute_result"
    }
   ],
   "source": [
    "s[::3] # step count of three"
   ]
  },
  {
   "cell_type": "code",
   "execution_count": 48,
   "id": "7d09bfca",
   "metadata": {},
   "outputs": [
    {
     "data": {
      "text/plain": [
       "'nhoj emoclew'"
      ]
     },
     "execution_count": 48,
     "metadata": {},
     "output_type": "execute_result"
    }
   ],
   "source": [
    "s[::-1] #entire string in reverse"
   ]
  },
  {
   "cell_type": "code",
   "execution_count": 49,
   "id": "aacc3206",
   "metadata": {},
   "outputs": [
    {
     "data": {
      "text/plain": [
       "'no mce'"
      ]
     },
     "execution_count": 49,
     "metadata": {},
     "output_type": "execute_result"
    }
   ],
   "source": [
    "s[::-2]"
   ]
  },
  {
   "cell_type": "code",
   "execution_count": 62,
   "id": "b96ce961",
   "metadata": {},
   "outputs": [],
   "source": [
    "msg=\"welcome to python programming class\""
   ]
  },
  {
   "cell_type": "code",
   "execution_count": 73,
   "id": "6c80f5ee",
   "metadata": {},
   "outputs": [
    {
     "data": {
      "text/plain": [
       "'class'"
      ]
     },
     "execution_count": 73,
     "metadata": {},
     "output_type": "execute_result"
    }
   ],
   "source": [
    "msg[30:35]"
   ]
  },
  {
   "cell_type": "code",
   "execution_count": 84,
   "id": "5bca33e5",
   "metadata": {},
   "outputs": [
    {
     "data": {
      "text/plain": [
       "'class'"
      ]
     },
     "execution_count": 84,
     "metadata": {},
     "output_type": "execute_result"
    }
   ],
   "source": [
    "msg[-5:100]"
   ]
  },
  {
   "cell_type": "code",
   "execution_count": 85,
   "id": "b4d36ade",
   "metadata": {},
   "outputs": [
    {
     "data": {
      "text/plain": [
       "'class'"
      ]
     },
     "execution_count": 85,
     "metadata": {},
     "output_type": "execute_result"
    }
   ],
   "source": [
    "msg[-5:]"
   ]
  },
  {
   "cell_type": "code",
   "execution_count": 89,
   "id": "b124212d",
   "metadata": {},
   "outputs": [
    {
     "data": {
      "text/plain": [
       "'welcome john'"
      ]
     },
     "execution_count": 89,
     "metadata": {},
     "output_type": "execute_result"
    }
   ],
   "source": [
    "s"
   ]
  },
  {
   "cell_type": "code",
   "execution_count": 90,
   "id": "acba1c12",
   "metadata": {},
   "outputs": [
    {
     "ename": "TypeError",
     "evalue": "can only concatenate str (not \"int\") to str",
     "output_type": "error",
     "traceback": [
      "\u001b[1;31m---------------------------------------------------------------------------\u001b[0m",
      "\u001b[1;31mTypeError\u001b[0m                                 Traceback (most recent call last)",
      "Input \u001b[1;32mIn [90]\u001b[0m, in \u001b[0;36m<cell line: 1>\u001b[1;34m()\u001b[0m\n\u001b[1;32m----> 1\u001b[0m \u001b[43ms\u001b[49m\u001b[43m \u001b[49m\u001b[38;5;241;43m+\u001b[39;49m\u001b[43m \u001b[49m\u001b[38;5;241;43m10\u001b[39;49m\n",
      "\u001b[1;31mTypeError\u001b[0m: can only concatenate str (not \"int\") to str"
     ]
    }
   ],
   "source": [
    "s + 10 # Both ther data should be the same"
   ]
  },
  {
   "cell_type": "code",
   "execution_count": 91,
   "id": "94bbe284",
   "metadata": {},
   "outputs": [
    {
     "data": {
      "text/plain": [
       "'welcome john10'"
      ]
     },
     "execution_count": 91,
     "metadata": {},
     "output_type": "execute_result"
    }
   ],
   "source": [
    "s + \"10\""
   ]
  },
  {
   "cell_type": "code",
   "execution_count": 90,
   "id": "563981e7",
   "metadata": {},
   "outputs": [
    {
     "data": {
      "text/plain": [
       "'welcome john'"
      ]
     },
     "execution_count": 90,
     "metadata": {},
     "output_type": "execute_result"
    }
   ],
   "source": [
    "s"
   ]
  },
  {
   "cell_type": "code",
   "execution_count": 93,
   "id": "262d6406",
   "metadata": {},
   "outputs": [],
   "source": [
    "a=s+\"10\""
   ]
  },
  {
   "cell_type": "code",
   "execution_count": 94,
   "id": "8226923e",
   "metadata": {},
   "outputs": [
    {
     "data": {
      "text/plain": [
       "'welcome john10'"
      ]
     },
     "execution_count": 94,
     "metadata": {},
     "output_type": "execute_result"
    }
   ],
   "source": [
    "a"
   ]
  },
  {
   "cell_type": "code",
   "execution_count": 95,
   "id": "eafdffb7",
   "metadata": {},
   "outputs": [
    {
     "data": {
      "text/plain": [
       "'welcome johnwelcome johnwelcome john'"
      ]
     },
     "execution_count": 95,
     "metadata": {},
     "output_type": "execute_result"
    }
   ],
   "source": [
    "s * 3"
   ]
  },
  {
   "cell_type": "code",
   "execution_count": 96,
   "id": "4b646e1e",
   "metadata": {},
   "outputs": [],
   "source": [
    "# * -> works both as a multiplication operators or repeat operator"
   ]
  },
  {
   "cell_type": "code",
   "execution_count": 97,
   "id": "b5267e01",
   "metadata": {},
   "outputs": [
    {
     "data": {
      "text/plain": [
       "str"
      ]
     },
     "execution_count": 97,
     "metadata": {},
     "output_type": "execute_result"
    }
   ],
   "source": [
    "type (a)"
   ]
  },
  {
   "cell_type": "code",
   "execution_count": 98,
   "id": "e838ee6c",
   "metadata": {},
   "outputs": [
    {
     "data": {
      "text/plain": [
       "str"
      ]
     },
     "execution_count": 98,
     "metadata": {},
     "output_type": "execute_result"
    }
   ],
   "source": [
    "type(s)"
   ]
  },
  {
   "cell_type": "markdown",
   "id": "3193788e",
   "metadata": {},
   "source": [
    "### Lists\n",
    "* ordered collection of items/elements/objects\n",
    "* syntax:[ ]\n",
    "* Mutable \n"
   ]
  },
  {
   "cell_type": "code",
   "execution_count": 4,
   "id": "1d5648a6",
   "metadata": {},
   "outputs": [],
   "source": [
    "lang=[\"c\",\"c++\",\"python\",\"java\"]"
   ]
  },
  {
   "cell_type": "code",
   "execution_count": 5,
   "id": "9c712a93",
   "metadata": {},
   "outputs": [
    {
     "data": {
      "text/plain": [
       "['c', 'c++', 'python', 'java']"
      ]
     },
     "execution_count": 5,
     "metadata": {},
     "output_type": "execute_result"
    }
   ],
   "source": [
    "lang"
   ]
  },
  {
   "cell_type": "code",
   "execution_count": 6,
   "id": "b784665b",
   "metadata": {},
   "outputs": [
    {
     "data": {
      "text/plain": [
       "list"
      ]
     },
     "execution_count": 6,
     "metadata": {},
     "output_type": "execute_result"
    }
   ],
   "source": [
    "type(lang)"
   ]
  },
  {
   "cell_type": "code",
   "execution_count": 7,
   "id": "9a235e0e",
   "metadata": {},
   "outputs": [
    {
     "data": {
      "text/plain": [
       "4"
      ]
     },
     "execution_count": 7,
     "metadata": {},
     "output_type": "execute_result"
    }
   ],
   "source": [
    "len(lang)"
   ]
  },
  {
   "cell_type": "code",
   "execution_count": 8,
   "id": "5e36f227",
   "metadata": {},
   "outputs": [
    {
     "data": {
      "text/plain": [
       "'c'"
      ]
     },
     "execution_count": 8,
     "metadata": {},
     "output_type": "execute_result"
    }
   ],
   "source": [
    "lang[0]"
   ]
  },
  {
   "cell_type": "code",
   "execution_count": 9,
   "id": "bd6026f5",
   "metadata": {},
   "outputs": [
    {
     "data": {
      "text/plain": [
       "'c++'"
      ]
     },
     "execution_count": 9,
     "metadata": {},
     "output_type": "execute_result"
    }
   ],
   "source": [
    "lang[1]"
   ]
  },
  {
   "cell_type": "code",
   "execution_count": 10,
   "id": "8272b40c",
   "metadata": {},
   "outputs": [
    {
     "data": {
      "text/plain": [
       "'java'"
      ]
     },
     "execution_count": 10,
     "metadata": {},
     "output_type": "execute_result"
    }
   ],
   "source": [
    "lang[-1]"
   ]
  },
  {
   "cell_type": "code",
   "execution_count": 11,
   "id": "a46ebcf6",
   "metadata": {},
   "outputs": [
    {
     "data": {
      "text/plain": [
       "'java'"
      ]
     },
     "execution_count": 11,
     "metadata": {},
     "output_type": "execute_result"
    }
   ],
   "source": [
    "lang[-1]"
   ]
  },
  {
   "cell_type": "code",
   "execution_count": 12,
   "id": "b9133dc1",
   "metadata": {},
   "outputs": [
    {
     "data": {
      "text/plain": [
       "'a'"
      ]
     },
     "execution_count": 12,
     "metadata": {},
     "output_type": "execute_result"
    }
   ],
   "source": [
    "lang[-1][-1]"
   ]
  },
  {
   "cell_type": "code",
   "execution_count": 13,
   "id": "f1a427db",
   "metadata": {},
   "outputs": [
    {
     "data": {
      "text/plain": [
       "['c', 'c++']"
      ]
     },
     "execution_count": 13,
     "metadata": {},
     "output_type": "execute_result"
    }
   ],
   "source": [
    "# slicing\n",
    "lang[0:2]"
   ]
  },
  {
   "cell_type": "code",
   "execution_count": 14,
   "id": "e77aeedf",
   "metadata": {},
   "outputs": [
    {
     "ename": "TypeError",
     "evalue": "can only concatenate list (not \"int\") to list",
     "output_type": "error",
     "traceback": [
      "\u001b[1;31m---------------------------------------------------------------------------\u001b[0m",
      "\u001b[1;31mTypeError\u001b[0m                                 Traceback (most recent call last)",
      "Input \u001b[1;32mIn [14]\u001b[0m, in \u001b[0;36m<cell line: 1>\u001b[1;34m()\u001b[0m\n\u001b[1;32m----> 1\u001b[0m \u001b[43mlang\u001b[49m\u001b[43m \u001b[49m\u001b[38;5;241;43m+\u001b[39;49m\u001b[38;5;241;43m10\u001b[39;49m\n",
      "\u001b[1;31mTypeError\u001b[0m: can only concatenate list (not \"int\") to list"
     ]
    }
   ],
   "source": [
    "lang +10"
   ]
  },
  {
   "cell_type": "code",
   "execution_count": 15,
   "id": "c500de5f",
   "metadata": {},
   "outputs": [
    {
     "data": {
      "text/plain": [
       "['c', 'c++', 'python', 'java', 256]"
      ]
     },
     "execution_count": 15,
     "metadata": {},
     "output_type": "execute_result"
    }
   ],
   "source": [
    "lang+[256]"
   ]
  },
  {
   "cell_type": "code",
   "execution_count": 16,
   "id": "ac5db885",
   "metadata": {},
   "outputs": [
    {
     "data": {
      "text/plain": [
       "['c',\n",
       " 'c++',\n",
       " 'python',\n",
       " 'java',\n",
       " 'c',\n",
       " 'c++',\n",
       " 'python',\n",
       " 'java',\n",
       " 'c',\n",
       " 'c++',\n",
       " 'python',\n",
       " 'java']"
      ]
     },
     "execution_count": 16,
     "metadata": {},
     "output_type": "execute_result"
    }
   ],
   "source": [
    "lang * 3"
   ]
  },
  {
   "cell_type": "code",
   "execution_count": 17,
   "id": "25a3cb34",
   "metadata": {},
   "outputs": [],
   "source": [
    "a=lang[-1]"
   ]
  },
  {
   "cell_type": "code",
   "execution_count": 18,
   "id": "64d6fccb",
   "metadata": {},
   "outputs": [
    {
     "data": {
      "text/plain": [
       "'java'"
      ]
     },
     "execution_count": 18,
     "metadata": {},
     "output_type": "execute_result"
    }
   ],
   "source": [
    "a"
   ]
  },
  {
   "cell_type": "code",
   "execution_count": 19,
   "id": "5fde58e5",
   "metadata": {},
   "outputs": [
    {
     "data": {
      "text/plain": [
       "str"
      ]
     },
     "execution_count": 19,
     "metadata": {},
     "output_type": "execute_result"
    }
   ],
   "source": [
    "type(a)"
   ]
  },
  {
   "cell_type": "code",
   "execution_count": 20,
   "id": "b87347f6",
   "metadata": {},
   "outputs": [
    {
     "data": {
      "text/plain": [
       "'j'"
      ]
     },
     "execution_count": 20,
     "metadata": {},
     "output_type": "execute_result"
    }
   ],
   "source": [
    "a[0]"
   ]
  },
  {
   "cell_type": "code",
   "execution_count": 21,
   "id": "2377415f",
   "metadata": {},
   "outputs": [
    {
     "data": {
      "text/plain": [
       "'a'"
      ]
     },
     "execution_count": 21,
     "metadata": {},
     "output_type": "execute_result"
    }
   ],
   "source": [
    "a[-1]"
   ]
  },
  {
   "cell_type": "code",
   "execution_count": 22,
   "id": "3e5cd57a",
   "metadata": {},
   "outputs": [
    {
     "data": {
      "text/plain": [
       "'a'"
      ]
     },
     "execution_count": 22,
     "metadata": {},
     "output_type": "execute_result"
    }
   ],
   "source": [
    "lang[-1][-1]"
   ]
  },
  {
   "cell_type": "code",
   "execution_count": 23,
   "id": "b3d54edb",
   "metadata": {},
   "outputs": [],
   "source": [
    "a=1"
   ]
  },
  {
   "cell_type": "code",
   "execution_count": 24,
   "id": "9da76578",
   "metadata": {},
   "outputs": [
    {
     "name": "stdout",
     "output_type": "stream",
     "text": [
      "1\n"
     ]
    }
   ],
   "source": [
    "print(a)"
   ]
  },
  {
   "cell_type": "markdown",
   "id": "558c9820",
   "metadata": {},
   "source": [
    "#### Append\n",
    "* Always adds an element / object  at the end of the list"
   ]
  },
  {
   "cell_type": "code",
   "execution_count": 25,
   "id": "6721a56f",
   "metadata": {},
   "outputs": [
    {
     "data": {
      "text/plain": [
       "['c', 'c++', 'python', 'java']"
      ]
     },
     "execution_count": 25,
     "metadata": {},
     "output_type": "execute_result"
    }
   ],
   "source": [
    "lang"
   ]
  },
  {
   "cell_type": "code",
   "execution_count": 27,
   "id": "690d5b9d",
   "metadata": {},
   "outputs": [],
   "source": [
    "lang.append('python')"
   ]
  },
  {
   "cell_type": "code",
   "execution_count": 28,
   "id": "65a89ad9",
   "metadata": {},
   "outputs": [
    {
     "name": "stdout",
     "output_type": "stream",
     "text": [
      "['c', 'c++', 'python', 'java', 'python']\n"
     ]
    }
   ],
   "source": [
    "print(lang)"
   ]
  },
  {
   "cell_type": "markdown",
   "id": "a4a77ee3",
   "metadata": {},
   "source": [
    "### Insert\n",
    "* Inserts an element / object at a specified Index"
   ]
  },
  {
   "cell_type": "code",
   "execution_count": 29,
   "id": "4427bf1f",
   "metadata": {},
   "outputs": [],
   "source": [
    "lang.insert(1,'GO')"
   ]
  },
  {
   "cell_type": "code",
   "execution_count": 30,
   "id": "aea19cd0",
   "metadata": {},
   "outputs": [
    {
     "name": "stdout",
     "output_type": "stream",
     "text": [
      "['c', 'GO', 'c++', 'python', 'java', 'python']\n"
     ]
    }
   ],
   "source": [
    "print(lang)"
   ]
  },
  {
   "cell_type": "code",
   "execution_count": 31,
   "id": "090c46a5",
   "metadata": {},
   "outputs": [],
   "source": [
    "lang.insert(3,'c#')"
   ]
  },
  {
   "cell_type": "code",
   "execution_count": 32,
   "id": "2b821648",
   "metadata": {},
   "outputs": [
    {
     "name": "stdout",
     "output_type": "stream",
     "text": [
      "['c', 'GO', 'c++', 'c#', 'python', 'java', 'python']\n"
     ]
    }
   ],
   "source": [
    "print(lang)"
   ]
  },
  {
   "cell_type": "code",
   "execution_count": 36,
   "id": "884cf8c7",
   "metadata": {},
   "outputs": [],
   "source": [
    "# Insert an element after c# using -ve Indexing"
   ]
  },
  {
   "cell_type": "code",
   "execution_count": 37,
   "id": "98c89ccb",
   "metadata": {},
   "outputs": [],
   "source": [
    "lang.insert(-3, 'scala')"
   ]
  },
  {
   "cell_type": "code",
   "execution_count": 39,
   "id": "27bd94f5",
   "metadata": {},
   "outputs": [
    {
     "data": {
      "text/plain": [
       "['c', 'GO', 'c++', 'c#', 'scala', 'python', 'scala', 'java', 'python']"
      ]
     },
     "execution_count": 39,
     "metadata": {},
     "output_type": "execute_result"
    }
   ],
   "source": [
    "lang"
   ]
  },
  {
   "cell_type": "markdown",
   "id": "c2d54385",
   "metadata": {},
   "source": [
    "### Remove\n",
    "* Remove an element / object based on the value"
   ]
  },
  {
   "cell_type": "code",
   "execution_count": 41,
   "id": "b54c0f7a",
   "metadata": {},
   "outputs": [
    {
     "name": "stdout",
     "output_type": "stream",
     "text": [
      "Help on method_descriptor:\n",
      "\n",
      "remove(self, value, /)\n",
      "    Remove first occurrence of value.\n",
      "    \n",
      "    Raises ValueError if the value is not present.\n",
      "\n"
     ]
    }
   ],
   "source": [
    "help(list.remove)"
   ]
  },
  {
   "cell_type": "code",
   "execution_count": 42,
   "id": "ea298113",
   "metadata": {},
   "outputs": [],
   "source": [
    "lang.remove('scala')"
   ]
  },
  {
   "cell_type": "code",
   "execution_count": 43,
   "id": "65b9bf74",
   "metadata": {},
   "outputs": [
    {
     "data": {
      "text/plain": [
       "['c', 'GO', 'c++', 'c#', 'python', 'scala', 'java', 'python']"
      ]
     },
     "execution_count": 43,
     "metadata": {},
     "output_type": "execute_result"
    }
   ],
   "source": [
    "lang"
   ]
  },
  {
   "cell_type": "markdown",
   "id": "4791fc66",
   "metadata": {},
   "source": [
    "### pop\n",
    "* Remove an element / object based on  index, by default index is -1"
   ]
  },
  {
   "cell_type": "code",
   "execution_count": 44,
   "id": "40556630",
   "metadata": {},
   "outputs": [
    {
     "name": "stdout",
     "output_type": "stream",
     "text": [
      "['c', 'GO', 'c++', 'c#', 'python', 'scala', 'java', 'python']\n"
     ]
    }
   ],
   "source": [
    "print(lang)"
   ]
  },
  {
   "cell_type": "code",
   "execution_count": 45,
   "id": "e431c5c1",
   "metadata": {},
   "outputs": [
    {
     "data": {
      "text/plain": [
       "'scala'"
      ]
     },
     "execution_count": 45,
     "metadata": {},
     "output_type": "execute_result"
    }
   ],
   "source": [
    "lang.pop(-3)"
   ]
  },
  {
   "cell_type": "code",
   "execution_count": 47,
   "id": "39114796",
   "metadata": {},
   "outputs": [
    {
     "name": "stdout",
     "output_type": "stream",
     "text": [
      "['c', 'GO', 'c++', 'c#', 'python', 'java', 'python']\n"
     ]
    }
   ],
   "source": [
    "print(lang)"
   ]
  },
  {
   "cell_type": "code",
   "execution_count": 48,
   "id": "bdf62cdf",
   "metadata": {},
   "outputs": [
    {
     "data": {
      "text/plain": [
       "'python'"
      ]
     },
     "execution_count": 48,
     "metadata": {},
     "output_type": "execute_result"
    }
   ],
   "source": [
    "lang.pop() # it removes the last element of the list"
   ]
  },
  {
   "cell_type": "code",
   "execution_count": 49,
   "id": "ce87c297",
   "metadata": {},
   "outputs": [
    {
     "name": "stdout",
     "output_type": "stream",
     "text": [
      "['c', 'GO', 'c++', 'c#', 'python', 'java']\n"
     ]
    }
   ],
   "source": [
    "print(lang)"
   ]
  },
  {
   "cell_type": "markdown",
   "id": "14cf6500",
   "metadata": {},
   "source": [
    "### Delete\n",
    "* using del keyword"
   ]
  },
  {
   "cell_type": "code",
   "execution_count": 50,
   "id": "89203b57",
   "metadata": {},
   "outputs": [
    {
     "data": {
      "text/plain": [
       "['c', 'GO', 'c++', 'c#', 'python', 'java']"
      ]
     },
     "execution_count": 50,
     "metadata": {},
     "output_type": "execute_result"
    }
   ],
   "source": [
    "lang"
   ]
  },
  {
   "cell_type": "code",
   "execution_count": 51,
   "id": "877d9e8e",
   "metadata": {},
   "outputs": [],
   "source": [
    "del lang[0]"
   ]
  },
  {
   "cell_type": "code",
   "execution_count": 52,
   "id": "07b8f1f2",
   "metadata": {},
   "outputs": [
    {
     "data": {
      "text/plain": [
       "['GO', 'c++', 'c#', 'python', 'java']"
      ]
     },
     "execution_count": 52,
     "metadata": {},
     "output_type": "execute_result"
    }
   ],
   "source": [
    "lang"
   ]
  },
  {
   "cell_type": "code",
   "execution_count": 53,
   "id": "53f900de",
   "metadata": {},
   "outputs": [],
   "source": [
    "# using shift+tab combinations to get the auto-completion and help on my operation "
   ]
  },
  {
   "cell_type": "code",
   "execution_count": 55,
   "id": "fb732c72",
   "metadata": {},
   "outputs": [],
   "source": [
    "# Difference b/w pop, remove n delete\n",
    "# Remove is based on value\n",
    "# Pop is based on index, and its element is also got removed\n",
    "# delete is based on index element will not get removed its just delete the element, by using index we can del multiple element\n",
    "# we cannont remove multiple element at the same time"
   ]
  },
  {
   "cell_type": "code",
   "execution_count": null,
   "id": "f834ab95",
   "metadata": {},
   "outputs": [],
   "source": [
    "#create a list which consists of (c#, go, scala)"
   ]
  },
  {
   "cell_type": "code",
   "execution_count": 56,
   "id": "e16e78d0",
   "metadata": {},
   "outputs": [
    {
     "data": {
      "text/plain": [
       "['GO', 'c++', 'c#', 'python', 'java']"
      ]
     },
     "execution_count": 56,
     "metadata": {},
     "output_type": "execute_result"
    }
   ],
   "source": [
    "lang"
   ]
  },
  {
   "cell_type": "code",
   "execution_count": 57,
   "id": "cffaab68",
   "metadata": {},
   "outputs": [],
   "source": [
    "lang.append('scala')"
   ]
  },
  {
   "cell_type": "code",
   "execution_count": 58,
   "id": "a0ec4e26",
   "metadata": {},
   "outputs": [
    {
     "data": {
      "text/plain": [
       "['GO', 'c++', 'c#', 'python', 'java', 'scala']"
      ]
     },
     "execution_count": 58,
     "metadata": {},
     "output_type": "execute_result"
    }
   ],
   "source": [
    "lang"
   ]
  },
  {
   "cell_type": "code",
   "execution_count": 61,
   "id": "08d2c3df",
   "metadata": {},
   "outputs": [],
   "source": [
    "del lang[1:2]"
   ]
  },
  {
   "cell_type": "code",
   "execution_count": 62,
   "id": "0cfcfa2f",
   "metadata": {},
   "outputs": [
    {
     "data": {
      "text/plain": [
       "['GO', 'c#', 'python', 'java', 'scala']"
      ]
     },
     "execution_count": 62,
     "metadata": {},
     "output_type": "execute_result"
    }
   ],
   "source": [
    "lang"
   ]
  },
  {
   "cell_type": "code",
   "execution_count": 63,
   "id": "093f7173",
   "metadata": {},
   "outputs": [],
   "source": [
    "del lang[2:3]"
   ]
  },
  {
   "cell_type": "code",
   "execution_count": 64,
   "id": "e394529f",
   "metadata": {},
   "outputs": [
    {
     "data": {
      "text/plain": [
       "['GO', 'c#', 'java', 'scala']"
      ]
     },
     "execution_count": 64,
     "metadata": {},
     "output_type": "execute_result"
    }
   ],
   "source": [
    "lang"
   ]
  },
  {
   "cell_type": "code",
   "execution_count": 65,
   "id": "1863bcb8",
   "metadata": {},
   "outputs": [],
   "source": [
    "del lang[2]"
   ]
  },
  {
   "cell_type": "code",
   "execution_count": 66,
   "id": "28ac2e62",
   "metadata": {},
   "outputs": [
    {
     "data": {
      "text/plain": [
       "['GO', 'c#', 'scala']"
      ]
     },
     "execution_count": 66,
     "metadata": {},
     "output_type": "execute_result"
    }
   ],
   "source": [
    "lang"
   ]
  },
  {
   "cell_type": "code",
   "execution_count": 67,
   "id": "56223be5",
   "metadata": {},
   "outputs": [],
   "source": [
    "# Extract 3 character from last element"
   ]
  },
  {
   "cell_type": "code",
   "execution_count": 86,
   "id": "b80ad254",
   "metadata": {},
   "outputs": [],
   "source": [
    "q=lang[2][0:3]"
   ]
  },
  {
   "cell_type": "code",
   "execution_count": 87,
   "id": "8025fa35",
   "metadata": {},
   "outputs": [
    {
     "name": "stdout",
     "output_type": "stream",
     "text": [
      "sca\n"
     ]
    }
   ],
   "source": [
    "print(q)"
   ]
  },
  {
   "cell_type": "code",
   "execution_count": 70,
   "id": "13a0c3c3",
   "metadata": {},
   "outputs": [],
   "source": [
    "lang1=[\"C#\",\"Golang\",\"Scala\"]"
   ]
  },
  {
   "cell_type": "code",
   "execution_count": 72,
   "id": "5f852ace",
   "metadata": {},
   "outputs": [
    {
     "name": "stdout",
     "output_type": "stream",
     "text": [
      "['C#', 'Golang', 'Scala']\n"
     ]
    }
   ],
   "source": [
    "print(lang1)"
   ]
  },
  {
   "cell_type": "code",
   "execution_count": 73,
   "id": "d11f5171",
   "metadata": {},
   "outputs": [],
   "source": [
    "numlist=[100,200,300]"
   ]
  },
  {
   "cell_type": "code",
   "execution_count": 74,
   "id": "ca79d8a5",
   "metadata": {},
   "outputs": [],
   "source": [
    "lang1.append(numlist)"
   ]
  },
  {
   "cell_type": "code",
   "execution_count": 77,
   "id": "e9a2136b",
   "metadata": {},
   "outputs": [
    {
     "name": "stdout",
     "output_type": "stream",
     "text": [
      "['C#', 'Golang', 'Scala', [100, 200, 300]]\n"
     ]
    },
    {
     "data": {
      "text/plain": [
       "(None,)"
      ]
     },
     "execution_count": 77,
     "metadata": {},
     "output_type": "execute_result"
    }
   ],
   "source": [
    " print(lang1), # 4 element in the list, coz we append the numlist as 1 single element to the lang1 varible"
   ]
  },
  {
   "cell_type": "code",
   "execution_count": 78,
   "id": "b82ce414",
   "metadata": {},
   "outputs": [
    {
     "data": {
      "text/plain": [
       "4"
      ]
     },
     "execution_count": 78,
     "metadata": {},
     "output_type": "execute_result"
    }
   ],
   "source": [
    "len(lang1)"
   ]
  },
  {
   "cell_type": "code",
   "execution_count": 81,
   "id": "8549bb20",
   "metadata": {},
   "outputs": [
    {
     "ename": "TypeError",
     "evalue": "'list' object is not callable",
     "output_type": "error",
     "traceback": [
      "\u001b[1;31m---------------------------------------------------------------------------\u001b[0m",
      "\u001b[1;31mTypeError\u001b[0m                                 Traceback (most recent call last)",
      "Input \u001b[1;32mIn [81]\u001b[0m, in \u001b[0;36m<cell line: 1>\u001b[1;34m()\u001b[0m\n\u001b[1;32m----> 1\u001b[0m \u001b[43mlang1\u001b[49m\u001b[43m(\u001b[49m\u001b[38;5;241;43m-\u001b[39;49m\u001b[38;5;241;43m1\u001b[39;49m\u001b[43m)\u001b[49m\n",
      "\u001b[1;31mTypeError\u001b[0m: 'list' object is not callable"
     ]
    }
   ],
   "source": [
    "lang1(-1)"
   ]
  },
  {
   "cell_type": "code",
   "execution_count": 82,
   "id": "101198f7",
   "metadata": {},
   "outputs": [
    {
     "data": {
      "text/plain": [
       "[100, 200, 300]"
      ]
     },
     "execution_count": 82,
     "metadata": {},
     "output_type": "execute_result"
    }
   ],
   "source": [
    "lang1[-1]"
   ]
  },
  {
   "cell_type": "code",
   "execution_count": 83,
   "id": "62fd0be3",
   "metadata": {},
   "outputs": [],
   "source": [
    "d=lang1[-1][1]"
   ]
  },
  {
   "cell_type": "code",
   "execution_count": 84,
   "id": "4cf40c27",
   "metadata": {},
   "outputs": [
    {
     "name": "stdout",
     "output_type": "stream",
     "text": [
      "200\n"
     ]
    }
   ],
   "source": [
    "print(d)"
   ]
  },
  {
   "cell_type": "code",
   "execution_count": 92,
   "id": "4566a681",
   "metadata": {},
   "outputs": [
    {
     "data": {
      "text/plain": [
       "'welcome john'"
      ]
     },
     "execution_count": 92,
     "metadata": {},
     "output_type": "execute_result"
    }
   ],
   "source": [
    "s"
   ]
  },
  {
   "cell_type": "code",
   "execution_count": 93,
   "id": "1ea8df34",
   "metadata": {},
   "outputs": [],
   "source": [
    "lang1.append(s)"
   ]
  },
  {
   "cell_type": "code",
   "execution_count": 94,
   "id": "c3cd9dd9",
   "metadata": {},
   "outputs": [
    {
     "name": "stdout",
     "output_type": "stream",
     "text": [
      "['C#', 'Golang', 'Scala', [100, 200, 300], 'welcome john']\n"
     ]
    }
   ],
   "source": [
    "print(lang1)"
   ]
  },
  {
   "cell_type": "code",
   "execution_count": 95,
   "id": "53c25153",
   "metadata": {},
   "outputs": [
    {
     "data": {
      "text/plain": [
       "5"
      ]
     },
     "execution_count": 95,
     "metadata": {},
     "output_type": "execute_result"
    }
   ],
   "source": [
    "len(lang1)"
   ]
  },
  {
   "cell_type": "markdown",
   "id": "f93d77da",
   "metadata": {},
   "source": [
    "#### Extend\n",
    "* Extends the list with the element of the container / object passed\n",
    "* Increses the length of the list by the len of the object/element passed"
   ]
  },
  {
   "cell_type": "code",
   "execution_count": 98,
   "id": "2ba3890a",
   "metadata": {},
   "outputs": [
    {
     "data": {
      "text/plain": [
       "['GO', 'c#', 'scala']"
      ]
     },
     "execution_count": 98,
     "metadata": {},
     "output_type": "execute_result"
    }
   ],
   "source": [
    "lang"
   ]
  },
  {
   "cell_type": "code",
   "execution_count": 99,
   "id": "9746e6a1",
   "metadata": {},
   "outputs": [
    {
     "data": {
      "text/plain": [
       "[100, 200, 300]"
      ]
     },
     "execution_count": 99,
     "metadata": {},
     "output_type": "execute_result"
    }
   ],
   "source": [
    "numlist"
   ]
  },
  {
   "cell_type": "code",
   "execution_count": 100,
   "id": "095bd968",
   "metadata": {},
   "outputs": [
    {
     "data": {
      "text/plain": [
       "'welcome john'"
      ]
     },
     "execution_count": 100,
     "metadata": {},
     "output_type": "execute_result"
    }
   ],
   "source": [
    "s"
   ]
  },
  {
   "cell_type": "code",
   "execution_count": 104,
   "id": "010d15d0",
   "metadata": {},
   "outputs": [
    {
     "data": {
      "text/plain": [
       "['C#', 'Golang', 'Scala', [100, 200, 300], 'welcome john']"
      ]
     },
     "execution_count": 104,
     "metadata": {},
     "output_type": "execute_result"
    }
   ],
   "source": [
    "lang1"
   ]
  },
  {
   "cell_type": "code",
   "execution_count": 105,
   "id": "70436049",
   "metadata": {},
   "outputs": [],
   "source": [
    "lang1.extend(numlist)"
   ]
  },
  {
   "cell_type": "code",
   "execution_count": 106,
   "id": "b1c1783c",
   "metadata": {},
   "outputs": [
    {
     "data": {
      "text/plain": [
       "8"
      ]
     },
     "execution_count": 106,
     "metadata": {},
     "output_type": "execute_result"
    }
   ],
   "source": [
    "len(lang1)"
   ]
  },
  {
   "cell_type": "code",
   "execution_count": 107,
   "id": "c24981dc",
   "metadata": {},
   "outputs": [
    {
     "data": {
      "text/plain": [
       "['C#', 'Golang', 'Scala', [100, 200, 300], 'welcome john', 100, 200, 300]"
      ]
     },
     "execution_count": 107,
     "metadata": {},
     "output_type": "execute_result"
    }
   ],
   "source": [
    "lang1"
   ]
  },
  {
   "cell_type": "code",
   "execution_count": 111,
   "id": "315c3729",
   "metadata": {},
   "outputs": [],
   "source": [
    "lang1.extend(s)"
   ]
  },
  {
   "cell_type": "code",
   "execution_count": 112,
   "id": "2311b743",
   "metadata": {},
   "outputs": [
    {
     "data": {
      "text/plain": [
       "['C#',\n",
       " 'Golang',\n",
       " 'Scala',\n",
       " [100, 200, 300],\n",
       " 'welcome john',\n",
       " 100,\n",
       " 200,\n",
       " 300,\n",
       " 'w',\n",
       " 'e',\n",
       " 'l',\n",
       " 'c',\n",
       " 'o',\n",
       " 'm',\n",
       " 'e',\n",
       " ' ',\n",
       " 'j',\n",
       " 'o',\n",
       " 'h',\n",
       " 'n',\n",
       " 'w',\n",
       " 'e',\n",
       " 'l',\n",
       " 'c',\n",
       " 'o',\n",
       " 'm',\n",
       " 'e',\n",
       " ' ',\n",
       " 'j',\n",
       " 'o',\n",
       " 'h',\n",
       " 'n']"
      ]
     },
     "execution_count": 112,
     "metadata": {},
     "output_type": "execute_result"
    }
   ],
   "source": [
    "lang1"
   ]
  },
  {
   "cell_type": "code",
   "execution_count": 114,
   "id": "2ff1f420",
   "metadata": {},
   "outputs": [
    {
     "data": {
      "text/plain": [
       "32"
      ]
     },
     "execution_count": 114,
     "metadata": {},
     "output_type": "execute_result"
    }
   ],
   "source": [
    "len(lang1)"
   ]
  },
  {
   "cell_type": "code",
   "execution_count": 115,
   "id": "646ae0a0",
   "metadata": {},
   "outputs": [],
   "source": [
    "# Diff b/w append and extend\n",
    "# Append Add the list in to another list\n",
    "# Extend adds each list to add as element in the list"
   ]
  },
  {
   "cell_type": "markdown",
   "id": "24151d04",
   "metadata": {},
   "source": [
    "#### Count"
   ]
  },
  {
   "cell_type": "code",
   "execution_count": 117,
   "id": "dbb08d0a",
   "metadata": {},
   "outputs": [
    {
     "data": {
      "text/plain": [
       "4"
      ]
     },
     "execution_count": 117,
     "metadata": {},
     "output_type": "execute_result"
    }
   ],
   "source": [
    "lang1.count(\"e\")"
   ]
  },
  {
   "cell_type": "code",
   "execution_count": 119,
   "id": "69e11867",
   "metadata": {},
   "outputs": [
    {
     "data": {
      "text/plain": [
       "['C#',\n",
       " 'Golang',\n",
       " 'Scala',\n",
       " [100, 200, 300],\n",
       " 'welcome john',\n",
       " 100,\n",
       " 200,\n",
       " 300,\n",
       " 'w',\n",
       " 'e',\n",
       " 'l',\n",
       " 'c',\n",
       " 'o',\n",
       " 'm',\n",
       " 'e',\n",
       " ' ',\n",
       " 'j',\n",
       " 'o',\n",
       " 'h',\n",
       " 'n',\n",
       " 'w',\n",
       " 'e',\n",
       " 'l',\n",
       " 'c',\n",
       " 'o',\n",
       " 'm',\n",
       " 'e',\n",
       " ' ',\n",
       " 'j',\n",
       " 'o',\n",
       " 'h',\n",
       " 'n']"
      ]
     },
     "execution_count": 119,
     "metadata": {},
     "output_type": "execute_result"
    }
   ],
   "source": [
    "lang1"
   ]
  },
  {
   "cell_type": "code",
   "execution_count": 120,
   "id": "c02bcc71",
   "metadata": {},
   "outputs": [
    {
     "data": {
      "text/plain": [
       "'C#'"
      ]
     },
     "execution_count": 120,
     "metadata": {},
     "output_type": "execute_result"
    }
   ],
   "source": [
    "lang1[0] "
   ]
  },
  {
   "cell_type": "code",
   "execution_count": 123,
   "id": "c7289dc5",
   "metadata": {},
   "outputs": [],
   "source": [
    "lang1[0]=\"julia\" # it replaces c# as julia"
   ]
  },
  {
   "cell_type": "code",
   "execution_count": 124,
   "id": "a6fb9f84",
   "metadata": {},
   "outputs": [
    {
     "data": {
      "text/plain": [
       "['julia',\n",
       " 'Golang',\n",
       " 'Scala',\n",
       " [100, 200, 300],\n",
       " 'welcome john',\n",
       " 100,\n",
       " 200,\n",
       " 300,\n",
       " 'w',\n",
       " 'e',\n",
       " 'l',\n",
       " 'c',\n",
       " 'o',\n",
       " 'm',\n",
       " 'e',\n",
       " ' ',\n",
       " 'j',\n",
       " 'o',\n",
       " 'h',\n",
       " 'n',\n",
       " 'w',\n",
       " 'e',\n",
       " 'l',\n",
       " 'c',\n",
       " 'o',\n",
       " 'm',\n",
       " 'e',\n",
       " ' ',\n",
       " 'j',\n",
       " 'o',\n",
       " 'h',\n",
       " 'n']"
      ]
     },
     "execution_count": 124,
     "metadata": {},
     "output_type": "execute_result"
    }
   ],
   "source": [
    "lang1"
   ]
  },
  {
   "cell_type": "code",
   "execution_count": 125,
   "id": "f5d0e136",
   "metadata": {},
   "outputs": [
    {
     "data": {
      "text/plain": [
       "'welcome john'"
      ]
     },
     "execution_count": 125,
     "metadata": {},
     "output_type": "execute_result"
    }
   ],
   "source": [
    "s"
   ]
  },
  {
   "cell_type": "code",
   "execution_count": 126,
   "id": "71ba0ea4",
   "metadata": {},
   "outputs": [
    {
     "data": {
      "text/plain": [
       "'w'"
      ]
     },
     "execution_count": 126,
     "metadata": {},
     "output_type": "execute_result"
    }
   ],
   "source": [
    "s[0]"
   ]
  },
  {
   "cell_type": "code",
   "execution_count": 127,
   "id": "260578e0",
   "metadata": {},
   "outputs": [
    {
     "ename": "TypeError",
     "evalue": "'str' object does not support item assignment",
     "output_type": "error",
     "traceback": [
      "\u001b[1;31m---------------------------------------------------------------------------\u001b[0m",
      "\u001b[1;31mTypeError\u001b[0m                                 Traceback (most recent call last)",
      "Input \u001b[1;32mIn [127]\u001b[0m, in \u001b[0;36m<cell line: 1>\u001b[1;34m()\u001b[0m\n\u001b[1;32m----> 1\u001b[0m s[\u001b[38;5;241m0\u001b[39m]\u001b[38;5;241m=\u001b[39m\u001b[38;5;124m\"\u001b[39m\u001b[38;5;124mc\u001b[39m\u001b[38;5;124m\"\u001b[39m\n",
      "\u001b[1;31mTypeError\u001b[0m: 'str' object does not support item assignment"
     ]
    }
   ],
   "source": [
    "s[0]=\"c\""
   ]
  },
  {
   "cell_type": "code",
   "execution_count": 129,
   "id": "25cc244c",
   "metadata": {},
   "outputs": [],
   "source": [
    "# Immutable Vs Mutable\n",
    "# Strings - > Immutable\n",
    "# Lists - >Mutable"
   ]
  },
  {
   "cell_type": "code",
   "execution_count": 130,
   "id": "3e7bdbe1",
   "metadata": {},
   "outputs": [
    {
     "data": {
      "text/plain": [
       "'welcome john'"
      ]
     },
     "execution_count": 130,
     "metadata": {},
     "output_type": "execute_result"
    }
   ],
   "source": [
    "s"
   ]
  },
  {
   "cell_type": "code",
   "execution_count": 131,
   "id": "ef00c37a",
   "metadata": {},
   "outputs": [
    {
     "data": {
      "text/plain": [
       "'Delcome john'"
      ]
     },
     "execution_count": 131,
     "metadata": {},
     "output_type": "execute_result"
    }
   ],
   "source": [
    "s.replace(\"w\",\"D\")"
   ]
  },
  {
   "cell_type": "code",
   "execution_count": 132,
   "id": "25864d95",
   "metadata": {},
   "outputs": [
    {
     "data": {
      "text/plain": [
       "'welcome john'"
      ]
     },
     "execution_count": 132,
     "metadata": {},
     "output_type": "execute_result"
    }
   ],
   "source": [
    "s"
   ]
  },
  {
   "cell_type": "code",
   "execution_count": 133,
   "id": "9f5d75d3",
   "metadata": {},
   "outputs": [
    {
     "data": {
      "text/plain": [
       "2175694974192"
      ]
     },
     "execution_count": 133,
     "metadata": {},
     "output_type": "execute_result"
    }
   ],
   "source": [
    "id(s)"
   ]
  },
  {
   "cell_type": "code",
   "execution_count": 134,
   "id": "ee428749",
   "metadata": {},
   "outputs": [
    {
     "data": {
      "text/plain": [
       "['julia',\n",
       " 'Golang',\n",
       " 'Scala',\n",
       " [100, 200, 300],\n",
       " 'welcome john',\n",
       " 100,\n",
       " 200,\n",
       " 300,\n",
       " 'w',\n",
       " 'e',\n",
       " 'l',\n",
       " 'c',\n",
       " 'o',\n",
       " 'm',\n",
       " 'e',\n",
       " ' ',\n",
       " 'j',\n",
       " 'o',\n",
       " 'h',\n",
       " 'n',\n",
       " 'w',\n",
       " 'e',\n",
       " 'l',\n",
       " 'c',\n",
       " 'o',\n",
       " 'm',\n",
       " 'e',\n",
       " ' ',\n",
       " 'j',\n",
       " 'o',\n",
       " 'h',\n",
       " 'n']"
      ]
     },
     "execution_count": 134,
     "metadata": {},
     "output_type": "execute_result"
    }
   ],
   "source": [
    "lang1"
   ]
  },
  {
   "cell_type": "code",
   "execution_count": 145,
   "id": "ca605bd0",
   "metadata": {},
   "outputs": [],
   "source": [
    "lang=['c', 'c++','java', 'python', 'golang']"
   ]
  },
  {
   "cell_type": "code",
   "execution_count": 146,
   "id": "695c83e1",
   "metadata": {},
   "outputs": [],
   "source": [
    "lang.sort()"
   ]
  },
  {
   "cell_type": "code",
   "execution_count": 147,
   "id": "2dc489b6",
   "metadata": {},
   "outputs": [
    {
     "data": {
      "text/plain": [
       "['c', 'c++', 'golang', 'java', 'python']"
      ]
     },
     "execution_count": 147,
     "metadata": {},
     "output_type": "execute_result"
    }
   ],
   "source": [
    "lang"
   ]
  },
  {
   "cell_type": "code",
   "execution_count": 148,
   "id": "859196a5",
   "metadata": {},
   "outputs": [],
   "source": [
    "lang.sort(reverse=True)"
   ]
  },
  {
   "cell_type": "code",
   "execution_count": 149,
   "id": "247e6ad1",
   "metadata": {},
   "outputs": [
    {
     "data": {
      "text/plain": [
       "['python', 'java', 'golang', 'c++', 'c']"
      ]
     },
     "execution_count": 149,
     "metadata": {},
     "output_type": "execute_result"
    }
   ],
   "source": [
    "lang"
   ]
  },
  {
   "cell_type": "code",
   "execution_count": 151,
   "id": "5440f15f",
   "metadata": {},
   "outputs": [],
   "source": [
    "lang.sort(reverse=False)"
   ]
  },
  {
   "cell_type": "code",
   "execution_count": 152,
   "id": "a339713a",
   "metadata": {},
   "outputs": [
    {
     "data": {
      "text/plain": [
       "['c', 'c++', 'golang', 'java', 'python']"
      ]
     },
     "execution_count": 152,
     "metadata": {},
     "output_type": "execute_result"
    }
   ],
   "source": [
    "lang"
   ]
  },
  {
   "cell_type": "code",
   "execution_count": 153,
   "id": "bd9fcac3",
   "metadata": {},
   "outputs": [],
   "source": [
    "lang.reverse()"
   ]
  },
  {
   "cell_type": "code",
   "execution_count": 154,
   "id": "6ff6852e",
   "metadata": {},
   "outputs": [
    {
     "data": {
      "text/plain": [
       "['python', 'java', 'golang', 'c++', 'c']"
      ]
     },
     "execution_count": 154,
     "metadata": {},
     "output_type": "execute_result"
    }
   ],
   "source": [
    "lang"
   ]
  },
  {
   "cell_type": "markdown",
   "id": "74e4d01f",
   "metadata": {},
   "source": [
    "#### Tuples\n",
    "* Ordered collection of objects/elements/items\n",
    "* syntax()\n",
    "* Immutable"
   ]
  },
  {
   "cell_type": "code",
   "execution_count": 155,
   "id": "5fdee227",
   "metadata": {},
   "outputs": [],
   "source": [
    "place=('chennai','cbe','madurai','erode','salem')"
   ]
  },
  {
   "cell_type": "code",
   "execution_count": 156,
   "id": "96c5c500",
   "metadata": {},
   "outputs": [
    {
     "data": {
      "text/plain": [
       "('chennai', 'cbe', 'madurai', 'erode', 'salem')"
      ]
     },
     "execution_count": 156,
     "metadata": {},
     "output_type": "execute_result"
    }
   ],
   "source": [
    "place"
   ]
  },
  {
   "cell_type": "code",
   "execution_count": 157,
   "id": "6daa6811",
   "metadata": {},
   "outputs": [
    {
     "data": {
      "text/plain": [
       "tuple"
      ]
     },
     "execution_count": 157,
     "metadata": {},
     "output_type": "execute_result"
    }
   ],
   "source": [
    "type(place)"
   ]
  },
  {
   "cell_type": "code",
   "execution_count": 158,
   "id": "f532bc37",
   "metadata": {},
   "outputs": [
    {
     "data": {
      "text/plain": [
       "'chennai'"
      ]
     },
     "execution_count": 158,
     "metadata": {},
     "output_type": "execute_result"
    }
   ],
   "source": [
    "place[0]"
   ]
  },
  {
   "cell_type": "code",
   "execution_count": 161,
   "id": "91a96618",
   "metadata": {},
   "outputs": [
    {
     "data": {
      "text/plain": [
       "('chennai', 'cbe', 'madurai')"
      ]
     },
     "execution_count": 161,
     "metadata": {},
     "output_type": "execute_result"
    }
   ],
   "source": [
    "place[0:3]"
   ]
  },
  {
   "cell_type": "code",
   "execution_count": 163,
   "id": "b5906dbf",
   "metadata": {},
   "outputs": [
    {
     "data": {
      "text/plain": [
       "1"
      ]
     },
     "execution_count": 163,
     "metadata": {},
     "output_type": "execute_result"
    }
   ],
   "source": [
    "place.count('cbe')"
   ]
  },
  {
   "cell_type": "code",
   "execution_count": 164,
   "id": "d9d6ff26",
   "metadata": {},
   "outputs": [
    {
     "data": {
      "text/plain": [
       "5"
      ]
     },
     "execution_count": 164,
     "metadata": {},
     "output_type": "execute_result"
    }
   ],
   "source": [
    "len(place)"
   ]
  },
  {
   "cell_type": "markdown",
   "id": "dff0a473",
   "metadata": {},
   "source": [
    "#### Packing"
   ]
  },
  {
   "cell_type": "code",
   "execution_count": 166,
   "id": "85f3a130",
   "metadata": {},
   "outputs": [],
   "source": [
    "j='john',35,'jo'"
   ]
  },
  {
   "cell_type": "code",
   "execution_count": 167,
   "id": "78b78bd6",
   "metadata": {},
   "outputs": [
    {
     "data": {
      "text/plain": [
       "('john', 35, 'jo')"
      ]
     },
     "execution_count": 167,
     "metadata": {},
     "output_type": "execute_result"
    }
   ],
   "source": [
    "j"
   ]
  },
  {
   "cell_type": "code",
   "execution_count": 168,
   "id": "51e13d4a",
   "metadata": {},
   "outputs": [
    {
     "data": {
      "text/plain": [
       "tuple"
      ]
     },
     "execution_count": 168,
     "metadata": {},
     "output_type": "execute_result"
    }
   ],
   "source": [
    "type(j)"
   ]
  },
  {
   "cell_type": "code",
   "execution_count": 169,
   "id": "7e01bff5",
   "metadata": {},
   "outputs": [],
   "source": [
    "g='raj'"
   ]
  },
  {
   "cell_type": "code",
   "execution_count": 170,
   "id": "569ad50e",
   "metadata": {},
   "outputs": [
    {
     "data": {
      "text/plain": [
       "str"
      ]
     },
     "execution_count": 170,
     "metadata": {},
     "output_type": "execute_result"
    }
   ],
   "source": [
    "type(g)"
   ]
  },
  {
   "cell_type": "code",
   "execution_count": 171,
   "id": "c3f34f8e",
   "metadata": {},
   "outputs": [],
   "source": [
    "h='raj',"
   ]
  },
  {
   "cell_type": "code",
   "execution_count": 173,
   "id": "7ffba1d6",
   "metadata": {},
   "outputs": [
    {
     "data": {
      "text/plain": [
       "tuple"
      ]
     },
     "execution_count": 173,
     "metadata": {},
     "output_type": "execute_result"
    }
   ],
   "source": [
    "type(h) # after giving comma after the quote it changes to tuples"
   ]
  },
  {
   "cell_type": "markdown",
   "id": "8155923a",
   "metadata": {},
   "source": [
    "### IN Operator\n",
    "* checks if elements exits in the container (list/tuple/string/dict)"
   ]
  },
  {
   "cell_type": "code",
   "execution_count": 174,
   "id": "7875ede6",
   "metadata": {},
   "outputs": [
    {
     "data": {
      "text/plain": [
       "('chennai', 'cbe', 'madurai', 'erode', 'salem')"
      ]
     },
     "execution_count": 174,
     "metadata": {},
     "output_type": "execute_result"
    }
   ],
   "source": [
    "place"
   ]
  },
  {
   "cell_type": "code",
   "execution_count": 175,
   "id": "cadac385",
   "metadata": {},
   "outputs": [
    {
     "data": {
      "text/plain": [
       "True"
      ]
     },
     "execution_count": 175,
     "metadata": {},
     "output_type": "execute_result"
    }
   ],
   "source": [
    "'cbe' in place"
   ]
  },
  {
   "cell_type": "code",
   "execution_count": 176,
   "id": "2f96f3ad",
   "metadata": {},
   "outputs": [
    {
     "data": {
      "text/plain": [
       "False"
      ]
     },
     "execution_count": 176,
     "metadata": {},
     "output_type": "execute_result"
    }
   ],
   "source": [
    "'Trichy' in place"
   ]
  },
  {
   "cell_type": "code",
   "execution_count": 177,
   "id": "8964889f",
   "metadata": {},
   "outputs": [
    {
     "data": {
      "text/plain": [
       "False"
      ]
     },
     "execution_count": 177,
     "metadata": {},
     "output_type": "execute_result"
    }
   ],
   "source": [
    "'Salem' in place # python is Case sentitive"
   ]
  },
  {
   "cell_type": "code",
   "execution_count": 178,
   "id": "30c784fa",
   "metadata": {},
   "outputs": [
    {
     "data": {
      "text/plain": [
       "True"
      ]
     },
     "execution_count": 178,
     "metadata": {},
     "output_type": "execute_result"
    }
   ],
   "source": [
    "'salem' in place"
   ]
  },
  {
   "cell_type": "code",
   "execution_count": 179,
   "id": "73e5a296",
   "metadata": {},
   "outputs": [
    {
     "data": {
      "text/plain": [
       "True"
      ]
     },
     "execution_count": 179,
     "metadata": {},
     "output_type": "execute_result"
    }
   ],
   "source": [
    "'Erode' not in place"
   ]
  },
  {
   "cell_type": "code",
   "execution_count": 180,
   "id": "ed22f8a4",
   "metadata": {},
   "outputs": [
    {
     "data": {
      "text/plain": [
       "['python', 'java', 'golang', 'c++', 'c']"
      ]
     },
     "execution_count": 180,
     "metadata": {},
     "output_type": "execute_result"
    }
   ],
   "source": [
    "lang"
   ]
  },
  {
   "cell_type": "code",
   "execution_count": 182,
   "id": "b38d5815",
   "metadata": {},
   "outputs": [
    {
     "data": {
      "text/plain": [
       "True"
      ]
     },
     "execution_count": 182,
     "metadata": {},
     "output_type": "execute_result"
    }
   ],
   "source": [
    "'python' in lang"
   ]
  },
  {
   "cell_type": "code",
   "execution_count": 183,
   "id": "e2049216",
   "metadata": {},
   "outputs": [
    {
     "data": {
      "text/plain": [
       "'welcome john'"
      ]
     },
     "execution_count": 183,
     "metadata": {},
     "output_type": "execute_result"
    }
   ],
   "source": [
    "s"
   ]
  },
  {
   "cell_type": "code",
   "execution_count": 184,
   "id": "7860d07a",
   "metadata": {},
   "outputs": [
    {
     "data": {
      "text/plain": [
       "True"
      ]
     },
     "execution_count": 184,
     "metadata": {},
     "output_type": "execute_result"
    }
   ],
   "source": [
    "'w' in s"
   ]
  },
  {
   "cell_type": "code",
   "execution_count": 186,
   "id": "59e5a680",
   "metadata": {},
   "outputs": [
    {
     "data": {
      "text/plain": [
       "True"
      ]
     },
     "execution_count": 186,
     "metadata": {},
     "output_type": "execute_result"
    }
   ],
   "source": [
    "'z' not in s"
   ]
  },
  {
   "cell_type": "code",
   "execution_count": 187,
   "id": "ef534f70",
   "metadata": {},
   "outputs": [
    {
     "data": {
      "text/plain": [
       "False"
      ]
     },
     "execution_count": 187,
     "metadata": {},
     "output_type": "execute_result"
    }
   ],
   "source": [
    "'x' in s"
   ]
  },
  {
   "cell_type": "code",
   "execution_count": 188,
   "id": "bd3e3f4c",
   "metadata": {},
   "outputs": [
    {
     "data": {
      "text/plain": [
       "[100, 200, 300]"
      ]
     },
     "execution_count": 188,
     "metadata": {},
     "output_type": "execute_result"
    }
   ],
   "source": [
    "numlist"
   ]
  },
  {
   "cell_type": "code",
   "execution_count": 189,
   "id": "025117f5",
   "metadata": {},
   "outputs": [
    {
     "data": {
      "text/plain": [
       "True"
      ]
     },
     "execution_count": 189,
     "metadata": {},
     "output_type": "execute_result"
    }
   ],
   "source": [
    "100 in numlist"
   ]
  },
  {
   "cell_type": "markdown",
   "id": "f3002d40",
   "metadata": {},
   "source": [
    "#### Mutable objects in tuples"
   ]
  },
  {
   "cell_type": "code",
   "execution_count": 190,
   "id": "337f5fa5",
   "metadata": {},
   "outputs": [],
   "source": [
    "fruits=('apple','orange','grapes',[1,2,3],\"dates\")"
   ]
  },
  {
   "cell_type": "code",
   "execution_count": 191,
   "id": "f22c9e12",
   "metadata": {},
   "outputs": [
    {
     "name": "stdout",
     "output_type": "stream",
     "text": [
      "<class 'tuple'>\n"
     ]
    }
   ],
   "source": [
    "print(type(fruits))"
   ]
  },
  {
   "cell_type": "code",
   "execution_count": 192,
   "id": "180540b0",
   "metadata": {},
   "outputs": [
    {
     "data": {
      "text/plain": [
       "5"
      ]
     },
     "execution_count": 192,
     "metadata": {},
     "output_type": "execute_result"
    }
   ],
   "source": [
    "len(fruits)"
   ]
  },
  {
   "cell_type": "code",
   "execution_count": 195,
   "id": "fe0f62a7",
   "metadata": {},
   "outputs": [
    {
     "data": {
      "text/plain": [
       "[1, 2, 3]"
      ]
     },
     "execution_count": 195,
     "metadata": {},
     "output_type": "execute_result"
    }
   ],
   "source": [
    "fruits[3]"
   ]
  },
  {
   "cell_type": "code",
   "execution_count": 197,
   "id": "7f47cbf3",
   "metadata": {},
   "outputs": [],
   "source": [
    "fruits[3].append(4)"
   ]
  },
  {
   "cell_type": "code",
   "execution_count": 198,
   "id": "182c71fe",
   "metadata": {},
   "outputs": [
    {
     "data": {
      "text/plain": [
       "('apple', 'orange', 'grapes', [1, 2, 3, 4], 'dates')"
      ]
     },
     "execution_count": 198,
     "metadata": {},
     "output_type": "execute_result"
    }
   ],
   "source": [
    "fruits"
   ]
  },
  {
   "cell_type": "code",
   "execution_count": 199,
   "id": "7cf6038a",
   "metadata": {},
   "outputs": [
    {
     "data": {
      "text/plain": [
       "'apple'"
      ]
     },
     "execution_count": 199,
     "metadata": {},
     "output_type": "execute_result"
    }
   ],
   "source": [
    "fruits[0]"
   ]
  },
  {
   "cell_type": "code",
   "execution_count": 200,
   "id": "ef74a653",
   "metadata": {},
   "outputs": [
    {
     "ename": "TypeError",
     "evalue": "'tuple' object does not support item assignment",
     "output_type": "error",
     "traceback": [
      "\u001b[1;31m---------------------------------------------------------------------------\u001b[0m",
      "\u001b[1;31mTypeError\u001b[0m                                 Traceback (most recent call last)",
      "Input \u001b[1;32mIn [200]\u001b[0m, in \u001b[0;36m<cell line: 1>\u001b[1;34m()\u001b[0m\n\u001b[1;32m----> 1\u001b[0m fruits[\u001b[38;5;241m0\u001b[39m]\u001b[38;5;241m=\u001b[39m\u001b[38;5;124m'\u001b[39m\u001b[38;5;124mcherry\u001b[39m\u001b[38;5;124m'\u001b[39m\n",
      "\u001b[1;31mTypeError\u001b[0m: 'tuple' object does not support item assignment"
     ]
    }
   ],
   "source": [
    "fruits[0]='cherry'"
   ]
  },
  {
   "cell_type": "code",
   "execution_count": 201,
   "id": "9e071585",
   "metadata": {},
   "outputs": [
    {
     "data": {
      "text/plain": [
       "[1, 2, 3, 4]"
      ]
     },
     "execution_count": 201,
     "metadata": {},
     "output_type": "execute_result"
    }
   ],
   "source": [
    "fruits[3]"
   ]
  },
  {
   "cell_type": "code",
   "execution_count": 202,
   "id": "0d82a963",
   "metadata": {},
   "outputs": [],
   "source": [
    "fruits[3].append(5) # coz its an list, lists can be mutable"
   ]
  },
  {
   "cell_type": "code",
   "execution_count": 203,
   "id": "72fc9752",
   "metadata": {},
   "outputs": [
    {
     "data": {
      "text/plain": [
       "('apple', 'orange', 'grapes', [1, 2, 3, 4, 5], 'dates')"
      ]
     },
     "execution_count": 203,
     "metadata": {},
     "output_type": "execute_result"
    }
   ],
   "source": [
    "fruits # The lists inside the tuple only can be extended"
   ]
  },
  {
   "cell_type": "code",
   "execution_count": 205,
   "id": "f24d20eb",
   "metadata": {},
   "outputs": [],
   "source": [
    "fruits[3].insert(1,'two')"
   ]
  },
  {
   "cell_type": "code",
   "execution_count": 206,
   "id": "d8b98bbe",
   "metadata": {},
   "outputs": [
    {
     "data": {
      "text/plain": [
       "('apple', 'orange', 'grapes', [1, 'two', 2, 3, 4, 5], 'dates')"
      ]
     },
     "execution_count": 206,
     "metadata": {},
     "output_type": "execute_result"
    }
   ],
   "source": [
    "fruits"
   ]
  },
  {
   "cell_type": "markdown",
   "id": "a6fa1a29",
   "metadata": {},
   "source": [
    "#### Misc-Strings"
   ]
  },
  {
   "cell_type": "code",
   "execution_count": 211,
   "id": "cc4c0644",
   "metadata": {},
   "outputs": [],
   "source": [
    "location = \"C:\\newfolder\""
   ]
  },
  {
   "cell_type": "code",
   "execution_count": 213,
   "id": "2714a4f2",
   "metadata": {},
   "outputs": [
    {
     "name": "stdout",
     "output_type": "stream",
     "text": [
      "C:\n",
      "ewfolder\n"
     ]
    }
   ],
   "source": [
    "print(location)"
   ]
  },
  {
   "cell_type": "code",
   "execution_count": 214,
   "id": "faf5f23b",
   "metadata": {},
   "outputs": [],
   "source": [
    "location=\"C:\\\\newfolder\""
   ]
  },
  {
   "cell_type": "code",
   "execution_count": 215,
   "id": "a05c7e31",
   "metadata": {},
   "outputs": [
    {
     "name": "stdout",
     "output_type": "stream",
     "text": [
      "C:\\newfolder\n"
     ]
    }
   ],
   "source": [
    "print(location)"
   ]
  },
  {
   "cell_type": "code",
   "execution_count": 220,
   "id": "fed02e9f",
   "metadata": {},
   "outputs": [],
   "source": [
    "loc=r\"C:\\newfolder\" # r Refers to a RAW string  as it is, it do not excapes any character"
   ]
  },
  {
   "cell_type": "code",
   "execution_count": 221,
   "id": "179ec32e",
   "metadata": {},
   "outputs": [
    {
     "name": "stdout",
     "output_type": "stream",
     "text": [
      "C:\\newfolder\n"
     ]
    }
   ],
   "source": [
    "print(loc)"
   ]
  },
  {
   "cell_type": "markdown",
   "id": "d1bc345f",
   "metadata": {},
   "source": [
    "#### Format"
   ]
  },
  {
   "cell_type": "code",
   "execution_count": 222,
   "id": "22969610",
   "metadata": {},
   "outputs": [],
   "source": [
    "sessioncount = 10"
   ]
  },
  {
   "cell_type": "code",
   "execution_count": 223,
   "id": "7a51688c",
   "metadata": {},
   "outputs": [],
   "source": [
    "chapters = 8"
   ]
  },
  {
   "cell_type": "code",
   "execution_count": 235,
   "id": "d87d93c9",
   "metadata": {},
   "outputs": [],
   "source": [
    "msg = \"there will be\" + str(chapters) + \"chapters in the course, spanned across\" + str(sessioncount)+\"sessions\""
   ]
  },
  {
   "cell_type": "code",
   "execution_count": 236,
   "id": "870a86c8",
   "metadata": {},
   "outputs": [
    {
     "name": "stdout",
     "output_type": "stream",
     "text": [
      "there will be8chapters in the course, spanned across10sessions\n"
     ]
    }
   ],
   "source": [
    "print(msg)"
   ]
  },
  {
   "cell_type": "code",
   "execution_count": 237,
   "id": "824ee6e4",
   "metadata": {},
   "outputs": [],
   "source": [
    "msg = \"there will be {} chapters in the course, spanned across {} sessions\""
   ]
  },
  {
   "cell_type": "code",
   "execution_count": 238,
   "id": "d83ffdc8",
   "metadata": {},
   "outputs": [
    {
     "name": "stdout",
     "output_type": "stream",
     "text": [
      "there will be {} chapters in the course, spanned across {} sessions\n"
     ]
    }
   ],
   "source": [
    "print(msg)"
   ]
  },
  {
   "cell_type": "code",
   "execution_count": 239,
   "id": "4e18ebf8",
   "metadata": {},
   "outputs": [],
   "source": [
    "msg = \"there will be {} chapters in the course, spanned across {} sessions\".format(chapters,sessioncount)"
   ]
  },
  {
   "cell_type": "code",
   "execution_count": 240,
   "id": "05ed1863",
   "metadata": {},
   "outputs": [
    {
     "name": "stdout",
     "output_type": "stream",
     "text": [
      "there will be 8 chapters in the course, spanned across 10 sessions\n"
     ]
    }
   ],
   "source": [
    "print(msg)"
   ]
  },
  {
   "cell_type": "markdown",
   "id": "2ba8822d",
   "metadata": {},
   "source": [
    "#### Dictonary\n",
    "* collection of keys - value pairs\n",
    "* syntax{}\n",
    "* Mutable\n",
    "* Collection of {k1:v1, k2:v2, k3:v3}\n",
    "* Example: (Rollno1: Name1, Rolleno2:Name2, Rollno3:Name3)\n",
    "* Maps , Hash Maps"
   ]
  },
  {
   "cell_type": "code",
   "execution_count": 245,
   "id": "c2f121a9",
   "metadata": {},
   "outputs": [],
   "source": [
    "fruits1={\"a\":\"apple\", \"b\":\"bannana\", \"c\":\"grapes\"}"
   ]
  },
  {
   "cell_type": "code",
   "execution_count": 249,
   "id": "34c74310",
   "metadata": {},
   "outputs": [
    {
     "data": {
      "text/plain": [
       "{'a': 'apple', 'b': 'bannana', 'c': 'grapes'}"
      ]
     },
     "execution_count": 249,
     "metadata": {},
     "output_type": "execute_result"
    }
   ],
   "source": [
    "fruits1"
   ]
  },
  {
   "cell_type": "code",
   "execution_count": 250,
   "id": "c068afca",
   "metadata": {},
   "outputs": [
    {
     "data": {
      "text/plain": [
       "dict"
      ]
     },
     "execution_count": 250,
     "metadata": {},
     "output_type": "execute_result"
    }
   ],
   "source": [
    "type(fruits1)"
   ]
  },
  {
   "cell_type": "code",
   "execution_count": 251,
   "id": "25f1d457",
   "metadata": {},
   "outputs": [
    {
     "data": {
      "text/plain": [
       "3"
      ]
     },
     "execution_count": 251,
     "metadata": {},
     "output_type": "execute_result"
    }
   ],
   "source": [
    "len(fruits1)"
   ]
  },
  {
   "cell_type": "code",
   "execution_count": 254,
   "id": "a36e3d1f",
   "metadata": {},
   "outputs": [
    {
     "data": {
      "text/plain": [
       "'apple'"
      ]
     },
     "execution_count": 254,
     "metadata": {},
     "output_type": "execute_result"
    }
   ],
   "source": [
    "fruits1['a']"
   ]
  },
  {
   "cell_type": "code",
   "execution_count": 255,
   "id": "36880ec0",
   "metadata": {},
   "outputs": [
    {
     "data": {
      "text/plain": [
       "'ap'"
      ]
     },
     "execution_count": 255,
     "metadata": {},
     "output_type": "execute_result"
    }
   ],
   "source": [
    "fruits1['a'][0:2]"
   ]
  },
  {
   "cell_type": "code",
   "execution_count": null,
   "id": "4d5fa5a0",
   "metadata": {},
   "outputs": [],
   "source": []
  }
 ],
 "metadata": {
  "kernelspec": {
   "display_name": "Python 3 (ipykernel)",
   "language": "python",
   "name": "python3"
  },
  "language_info": {
   "codemirror_mode": {
    "name": "ipython",
    "version": 3
   },
   "file_extension": ".py",
   "mimetype": "text/x-python",
   "name": "python",
   "nbconvert_exporter": "python",
   "pygments_lexer": "ipython3",
   "version": "3.8.8"
  }
 },
 "nbformat": 4,
 "nbformat_minor": 5
}
