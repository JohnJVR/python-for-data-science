{
 "cells": [
  {
   "cell_type": "code",
   "execution_count": 1,
   "id": "c21f77b4",
   "metadata": {},
   "outputs": [],
   "source": [
    "fruits1={\"a\":\"apple\", \"b\":\"bannana\", \"c\":\"grapes\"}"
   ]
  },
  {
   "cell_type": "code",
   "execution_count": 2,
   "id": "edf875dd",
   "metadata": {},
   "outputs": [
    {
     "data": {
      "text/plain": [
       "{'a': 'apple', 'b': 'bannana', 'c': 'grapes'}"
      ]
     },
     "execution_count": 2,
     "metadata": {},
     "output_type": "execute_result"
    }
   ],
   "source": [
    "fruits1"
   ]
  },
  {
   "cell_type": "code",
   "execution_count": 3,
   "id": "0d58ac57",
   "metadata": {},
   "outputs": [
    {
     "name": "stdout",
     "output_type": "stream",
     "text": [
      "a\n",
      "b\n",
      "c\n"
     ]
    }
   ],
   "source": [
    "for i in fruits1:\n",
    "    print(i)"
   ]
  },
  {
   "cell_type": "markdown",
   "id": "e7b292b4",
   "metadata": {},
   "source": [
    "#### Misc (Keys,Values,Items"
   ]
  },
  {
   "cell_type": "code",
   "execution_count": 4,
   "id": "0ba6a967",
   "metadata": {},
   "outputs": [
    {
     "data": {
      "text/plain": [
       "{'a': 'apple', 'b': 'bannana', 'c': 'grapes'}"
      ]
     },
     "execution_count": 4,
     "metadata": {},
     "output_type": "execute_result"
    }
   ],
   "source": [
    "fruits1"
   ]
  },
  {
   "cell_type": "code",
   "execution_count": 5,
   "id": "fe8daea7",
   "metadata": {},
   "outputs": [
    {
     "data": {
      "text/plain": [
       "dict_keys(['a', 'b', 'c'])"
      ]
     },
     "execution_count": 5,
     "metadata": {},
     "output_type": "execute_result"
    }
   ],
   "source": [
    "fruits1.keys()"
   ]
  },
  {
   "cell_type": "code",
   "execution_count": 6,
   "id": "6c585f30",
   "metadata": {},
   "outputs": [
    {
     "data": {
      "text/plain": [
       "dict_values(['apple', 'bannana', 'grapes'])"
      ]
     },
     "execution_count": 6,
     "metadata": {},
     "output_type": "execute_result"
    }
   ],
   "source": [
    "fruits1.values()"
   ]
  },
  {
   "cell_type": "code",
   "execution_count": 7,
   "id": "3f2e3c26",
   "metadata": {},
   "outputs": [
    {
     "data": {
      "text/plain": [
       "dict_items([('a', 'apple'), ('b', 'bannana'), ('c', 'grapes')])"
      ]
     },
     "execution_count": 7,
     "metadata": {},
     "output_type": "execute_result"
    }
   ],
   "source": [
    "fruits1.items() # List of tupples, inside list each element is a tuple, : 'key','value'"
   ]
  },
  {
   "cell_type": "code",
   "execution_count": 8,
   "id": "4b85fddc",
   "metadata": {},
   "outputs": [
    {
     "data": {
      "text/plain": [
       "{'a': 'apple', 'b': 'bannana', 'c': 'grapes'}"
      ]
     },
     "execution_count": 8,
     "metadata": {},
     "output_type": "execute_result"
    }
   ],
   "source": [
    "fruits1"
   ]
  },
  {
   "cell_type": "code",
   "execution_count": 9,
   "id": "1c2d41a7",
   "metadata": {},
   "outputs": [
    {
     "data": {
      "text/plain": [
       "True"
      ]
     },
     "execution_count": 9,
     "metadata": {},
     "output_type": "execute_result"
    }
   ],
   "source": [
    "\"a\" in fruits1"
   ]
  },
  {
   "cell_type": "code",
   "execution_count": 10,
   "id": "7357179c",
   "metadata": {},
   "outputs": [
    {
     "data": {
      "text/plain": [
       "False"
      ]
     },
     "execution_count": 10,
     "metadata": {},
     "output_type": "execute_result"
    }
   ],
   "source": [
    "'s' in fruits1"
   ]
  },
  {
   "cell_type": "code",
   "execution_count": 11,
   "id": "b7a74ec8",
   "metadata": {},
   "outputs": [
    {
     "data": {
      "text/plain": [
       "True"
      ]
     },
     "execution_count": 11,
     "metadata": {},
     "output_type": "execute_result"
    }
   ],
   "source": [
    "'x' not in fruits1"
   ]
  },
  {
   "cell_type": "code",
   "execution_count": 12,
   "id": "3e61aa5d",
   "metadata": {},
   "outputs": [
    {
     "ename": "NameError",
     "evalue": "name 'fruits' is not defined",
     "output_type": "error",
     "traceback": [
      "\u001b[1;31m---------------------------------------------------------------------------\u001b[0m",
      "\u001b[1;31mNameError\u001b[0m                                 Traceback (most recent call last)",
      "Input \u001b[1;32mIn [12]\u001b[0m, in \u001b[0;36m<cell line: 1>\u001b[1;34m()\u001b[0m\n\u001b[1;32m----> 1\u001b[0m \u001b[38;5;124m'\u001b[39m\u001b[38;5;124mapples\u001b[39m\u001b[38;5;124m'\u001b[39m \u001b[38;5;129;01min\u001b[39;00m \u001b[43mfruits\u001b[49m\u001b[38;5;241m.\u001b[39mvalues()\n",
      "\u001b[1;31mNameError\u001b[0m: name 'fruits' is not defined"
     ]
    }
   ],
   "source": [
    "'apples' in fruits.values()"
   ]
  },
  {
   "cell_type": "code",
   "execution_count": null,
   "id": "1436b012",
   "metadata": {},
   "outputs": [],
   "source": [
    "'apples' in fruits1.values()"
   ]
  },
  {
   "cell_type": "code",
   "execution_count": null,
   "id": "c9b7f3c4",
   "metadata": {},
   "outputs": [],
   "source": [
    "'apple' in fruits1.values()"
   ]
  },
  {
   "cell_type": "markdown",
   "id": "1d545b80",
   "metadata": {},
   "source": [
    "#### Range\n",
    "* Used to generate a series / sequence of numbers\n",
    "* start(included), stop(Excluded), stepcount"
   ]
  },
  {
   "cell_type": "code",
   "execution_count": 13,
   "id": "422773ce",
   "metadata": {},
   "outputs": [],
   "source": [
    "r=range(0,11)"
   ]
  },
  {
   "cell_type": "code",
   "execution_count": 14,
   "id": "7738e232",
   "metadata": {},
   "outputs": [
    {
     "data": {
      "text/plain": [
       "range(0, 11)"
      ]
     },
     "execution_count": 14,
     "metadata": {},
     "output_type": "execute_result"
    }
   ],
   "source": [
    "r"
   ]
  },
  {
   "cell_type": "code",
   "execution_count": 15,
   "id": "88b569a7",
   "metadata": {},
   "outputs": [
    {
     "data": {
      "text/plain": [
       "range"
      ]
     },
     "execution_count": 15,
     "metadata": {},
     "output_type": "execute_result"
    }
   ],
   "source": [
    "type(r)"
   ]
  },
  {
   "cell_type": "code",
   "execution_count": 16,
   "id": "76ae4388",
   "metadata": {},
   "outputs": [
    {
     "data": {
      "text/plain": [
       "[0, 1, 2, 3, 4, 5, 6, 7, 8, 9, 10]"
      ]
     },
     "execution_count": 16,
     "metadata": {},
     "output_type": "execute_result"
    }
   ],
   "source": [
    "list(r)"
   ]
  },
  {
   "cell_type": "code",
   "execution_count": 17,
   "id": "c13d02ff",
   "metadata": {},
   "outputs": [
    {
     "data": {
      "text/plain": [
       "(0, 1, 2, 3, 4, 5, 6, 7, 8, 9, 10)"
      ]
     },
     "execution_count": 17,
     "metadata": {},
     "output_type": "execute_result"
    }
   ],
   "source": [
    "tuple(r)"
   ]
  },
  {
   "cell_type": "code",
   "execution_count": 18,
   "id": "7ea030cd",
   "metadata": {},
   "outputs": [],
   "source": [
    "r2=range(0,20,2) # start, stop, step"
   ]
  },
  {
   "cell_type": "code",
   "execution_count": 19,
   "id": "dfa15137",
   "metadata": {},
   "outputs": [
    {
     "data": {
      "text/plain": [
       "[0, 2, 4, 6, 8, 10, 12, 14, 16, 18]"
      ]
     },
     "execution_count": 19,
     "metadata": {},
     "output_type": "execute_result"
    }
   ],
   "source": [
    "list(r2)"
   ]
  },
  {
   "cell_type": "code",
   "execution_count": 20,
   "id": "25f805b3",
   "metadata": {},
   "outputs": [],
   "source": [
    "r3=range(10)"
   ]
  },
  {
   "cell_type": "code",
   "execution_count": 21,
   "id": "b2005d2e",
   "metadata": {},
   "outputs": [
    {
     "data": {
      "text/plain": [
       "[0, 1, 2, 3, 4, 5, 6, 7, 8, 9]"
      ]
     },
     "execution_count": 21,
     "metadata": {},
     "output_type": "execute_result"
    }
   ],
   "source": [
    "list(r3)"
   ]
  },
  {
   "cell_type": "code",
   "execution_count": 22,
   "id": "fe6337af",
   "metadata": {},
   "outputs": [
    {
     "name": "stdout",
     "output_type": "stream",
     "text": [
      "[0, 1, 2, 3, 4, 5, 6, 7, 8, 9]\n"
     ]
    }
   ],
   "source": [
    "print(list(r3))"
   ]
  },
  {
   "cell_type": "code",
   "execution_count": 23,
   "id": "2a583947",
   "metadata": {},
   "outputs": [
    {
     "ename": "TypeError",
     "evalue": "'float' object cannot be interpreted as an integer",
     "output_type": "error",
     "traceback": [
      "\u001b[1;31m---------------------------------------------------------------------------\u001b[0m",
      "\u001b[1;31mTypeError\u001b[0m                                 Traceback (most recent call last)",
      "Input \u001b[1;32mIn [23]\u001b[0m, in \u001b[0;36m<cell line: 1>\u001b[1;34m()\u001b[0m\n\u001b[1;32m----> 1\u001b[0m r4 \u001b[38;5;241m=\u001b[39m \u001b[38;5;28;43mrange\u001b[39;49m\u001b[43m(\u001b[49m\u001b[38;5;241;43m5\u001b[39;49m\u001b[43m,\u001b[49m\u001b[38;5;241;43m10\u001b[39;49m\u001b[43m,\u001b[49m\u001b[38;5;241;43m0.5\u001b[39;49m\u001b[43m)\u001b[49m\n",
      "\u001b[1;31mTypeError\u001b[0m: 'float' object cannot be interpreted as an integer"
     ]
    }
   ],
   "source": [
    "r4 = range(5,10,0.5)"
   ]
  },
  {
   "cell_type": "code",
   "execution_count": 24,
   "id": "cd896e2b",
   "metadata": {},
   "outputs": [],
   "source": [
    "# but in numpy or in pandas we got arange in that we can give float as a step"
   ]
  },
  {
   "cell_type": "code",
   "execution_count": 25,
   "id": "5df0ac85",
   "metadata": {},
   "outputs": [],
   "source": [
    "r5= range(200,10,-10)"
   ]
  },
  {
   "cell_type": "code",
   "execution_count": 26,
   "id": "f8499c2d",
   "metadata": {},
   "outputs": [
    {
     "data": {
      "text/plain": [
       "[200,\n",
       " 190,\n",
       " 180,\n",
       " 170,\n",
       " 160,\n",
       " 150,\n",
       " 140,\n",
       " 130,\n",
       " 120,\n",
       " 110,\n",
       " 100,\n",
       " 90,\n",
       " 80,\n",
       " 70,\n",
       " 60,\n",
       " 50,\n",
       " 40,\n",
       " 30,\n",
       " 20]"
      ]
     },
     "execution_count": 26,
     "metadata": {},
     "output_type": "execute_result"
    }
   ],
   "source": [
    "list(r5)"
   ]
  },
  {
   "cell_type": "code",
   "execution_count": 27,
   "id": "f3cd9c5c",
   "metadata": {},
   "outputs": [
    {
     "data": {
      "text/plain": [
       "19"
      ]
     },
     "execution_count": 27,
     "metadata": {},
     "output_type": "execute_result"
    }
   ],
   "source": [
    "len(r5)"
   ]
  },
  {
   "cell_type": "code",
   "execution_count": 28,
   "id": "5811c6e7",
   "metadata": {},
   "outputs": [
    {
     "data": {
      "text/plain": [
       "range"
      ]
     },
     "execution_count": 28,
     "metadata": {},
     "output_type": "execute_result"
    }
   ],
   "source": [
    "type(r5)"
   ]
  },
  {
   "cell_type": "markdown",
   "id": "3d8b9289",
   "metadata": {},
   "source": [
    "### 3.Sets\n",
    "* A unique collection of immutable items/objects\n",
    "* syntax{}\n",
    "* Mutable\n",
    "* we can add elements to the set\n",
    "* we can add immutable elements to the set\n",
    "* set cannot have mutable elements "
   ]
  },
  {
   "cell_type": "code",
   "execution_count": 29,
   "id": "4fcfa60f",
   "metadata": {},
   "outputs": [],
   "source": [
    "# Create a set from a string\n",
    "a=set(\"Bangalore\")"
   ]
  },
  {
   "cell_type": "code",
   "execution_count": 30,
   "id": "9574f114",
   "metadata": {},
   "outputs": [
    {
     "data": {
      "text/plain": [
       "{'B', 'a', 'e', 'g', 'l', 'n', 'o', 'r'}"
      ]
     },
     "execution_count": 30,
     "metadata": {},
     "output_type": "execute_result"
    }
   ],
   "source": [
    "a"
   ]
  },
  {
   "cell_type": "code",
   "execution_count": 31,
   "id": "60700383",
   "metadata": {},
   "outputs": [],
   "source": [
    " b=set(\"Erode\")"
   ]
  },
  {
   "cell_type": "code",
   "execution_count": 32,
   "id": "483e6155",
   "metadata": {},
   "outputs": [
    {
     "data": {
      "text/plain": [
       "{'E', 'd', 'e', 'o', 'r'}"
      ]
     },
     "execution_count": 32,
     "metadata": {},
     "output_type": "execute_result"
    }
   ],
   "source": [
    "b"
   ]
  },
  {
   "cell_type": "code",
   "execution_count": 33,
   "id": "84eb280a",
   "metadata": {},
   "outputs": [
    {
     "data": {
      "text/plain": [
       "{'B', 'E', 'a', 'd', 'e', 'g', 'l', 'n', 'o', 'r'}"
      ]
     },
     "execution_count": 33,
     "metadata": {},
     "output_type": "execute_result"
    }
   ],
   "source": [
    "a | b"
   ]
  },
  {
   "cell_type": "code",
   "execution_count": 34,
   "id": "b75f8011",
   "metadata": {},
   "outputs": [],
   "source": [
    "# it gives the elements presented in both a and b"
   ]
  },
  {
   "cell_type": "code",
   "execution_count": 35,
   "id": "20718ad6",
   "metadata": {},
   "outputs": [
    {
     "data": {
      "text/plain": [
       "10"
      ]
     },
     "execution_count": 35,
     "metadata": {},
     "output_type": "execute_result"
    }
   ],
   "source": [
    "len(a|b)"
   ]
  },
  {
   "cell_type": "code",
   "execution_count": 36,
   "id": "d80260f9",
   "metadata": {},
   "outputs": [
    {
     "data": {
      "text/plain": [
       "{'B', 'a', 'g', 'l', 'n'}"
      ]
     },
     "execution_count": 36,
     "metadata": {},
     "output_type": "execute_result"
    }
   ],
   "source": [
    "a-b # this gives the elements presented only in set a (set (a) - set (b))"
   ]
  },
  {
   "cell_type": "code",
   "execution_count": 37,
   "id": "92f657ab",
   "metadata": {},
   "outputs": [
    {
     "data": {
      "text/plain": [
       "5"
      ]
     },
     "execution_count": 37,
     "metadata": {},
     "output_type": "execute_result"
    }
   ],
   "source": [
    "len(a-b)"
   ]
  },
  {
   "cell_type": "code",
   "execution_count": 38,
   "id": "2b7edd01",
   "metadata": {},
   "outputs": [
    {
     "data": {
      "text/plain": [
       "{'E', 'd'}"
      ]
     },
     "execution_count": 38,
     "metadata": {},
     "output_type": "execute_result"
    }
   ],
   "source": [
    "b-a # gives only elements in b alone"
   ]
  },
  {
   "cell_type": "code",
   "execution_count": 39,
   "id": "451f0485",
   "metadata": {},
   "outputs": [
    {
     "data": {
      "text/plain": [
       "2"
      ]
     },
     "execution_count": 39,
     "metadata": {},
     "output_type": "execute_result"
    }
   ],
   "source": [
    "len(b-a)"
   ]
  },
  {
   "cell_type": "code",
   "execution_count": 40,
   "id": "6bb64077",
   "metadata": {},
   "outputs": [
    {
     "data": {
      "text/plain": [
       "{'e', 'o', 'r'}"
      ]
     },
     "execution_count": 40,
     "metadata": {},
     "output_type": "execute_result"
    }
   ],
   "source": [
    "a & b # A Ampercent b it gives the a intersecxtion b elements"
   ]
  },
  {
   "cell_type": "code",
   "execution_count": 41,
   "id": "aed56a6f",
   "metadata": {},
   "outputs": [
    {
     "data": {
      "text/plain": [
       "3"
      ]
     },
     "execution_count": 41,
     "metadata": {},
     "output_type": "execute_result"
    }
   ],
   "source": [
    "len(a&b)"
   ]
  },
  {
   "cell_type": "code",
   "execution_count": 42,
   "id": "7662515f",
   "metadata": {},
   "outputs": [
    {
     "data": {
      "text/plain": [
       "{'B', 'E', 'a', 'd', 'e', 'g', 'l', 'n', 'o', 'r'}"
      ]
     },
     "execution_count": 42,
     "metadata": {},
     "output_type": "execute_result"
    }
   ],
   "source": [
    "a.union(b) # combination of both a and b set"
   ]
  },
  {
   "cell_type": "code",
   "execution_count": 43,
   "id": "3eebd8f6",
   "metadata": {},
   "outputs": [
    {
     "data": {
      "text/plain": [
       "{'e', 'o', 'r'}"
      ]
     },
     "execution_count": 43,
     "metadata": {},
     "output_type": "execute_result"
    }
   ],
   "source": [
    "a.intersection(b) # common elements in a and b"
   ]
  },
  {
   "cell_type": "code",
   "execution_count": 44,
   "id": "acc1adea",
   "metadata": {},
   "outputs": [
    {
     "data": {
      "text/plain": [
       "{'B', 'a', 'g', 'l', 'n'}"
      ]
     },
     "execution_count": 44,
     "metadata": {},
     "output_type": "execute_result"
    }
   ],
   "source": [
    "a.difference(b) # only elements in a set # a-b"
   ]
  },
  {
   "cell_type": "code",
   "execution_count": 45,
   "id": "8b5b44d1",
   "metadata": {},
   "outputs": [
    {
     "data": {
      "text/plain": [
       "{'E', 'd'}"
      ]
     },
     "execution_count": 45,
     "metadata": {},
     "output_type": "execute_result"
    }
   ],
   "source": [
    "b.difference(a) # only elements in b set # b-a"
   ]
  },
  {
   "cell_type": "code",
   "execution_count": 46,
   "id": "21c510cd",
   "metadata": {},
   "outputs": [],
   "source": [
    "a.add('john')"
   ]
  },
  {
   "cell_type": "code",
   "execution_count": 47,
   "id": "7681dbe5",
   "metadata": {},
   "outputs": [
    {
     "data": {
      "text/plain": [
       "{'B', 'a', 'e', 'g', 'john', 'l', 'n', 'o', 'r'}"
      ]
     },
     "execution_count": 47,
     "metadata": {},
     "output_type": "execute_result"
    }
   ],
   "source": [
    "a"
   ]
  },
  {
   "cell_type": "code",
   "execution_count": 48,
   "id": "cf95ba0b",
   "metadata": {},
   "outputs": [],
   "source": [
    "a.add('JOHN')"
   ]
  },
  {
   "cell_type": "code",
   "execution_count": 49,
   "id": "323f4e57",
   "metadata": {},
   "outputs": [
    {
     "data": {
      "text/plain": [
       "{'B', 'JOHN', 'a', 'e', 'g', 'john', 'l', 'n', 'o', 'r'}"
      ]
     },
     "execution_count": 49,
     "metadata": {},
     "output_type": "execute_result"
    }
   ],
   "source": [
    "a"
   ]
  },
  {
   "cell_type": "code",
   "execution_count": 50,
   "id": "0c7e3691",
   "metadata": {},
   "outputs": [],
   "source": [
    "a.remove('john')"
   ]
  },
  {
   "cell_type": "code",
   "execution_count": 51,
   "id": "50c6d23f",
   "metadata": {},
   "outputs": [
    {
     "data": {
      "text/plain": [
       "{'B', 'JOHN', 'a', 'e', 'g', 'l', 'n', 'o', 'r'}"
      ]
     },
     "execution_count": 51,
     "metadata": {},
     "output_type": "execute_result"
    }
   ],
   "source": [
    "a"
   ]
  },
  {
   "cell_type": "code",
   "execution_count": 52,
   "id": "d17182b5",
   "metadata": {},
   "outputs": [],
   "source": [
    "lang = ['c','c++','java','python','golang', 'julia']"
   ]
  },
  {
   "cell_type": "code",
   "execution_count": 53,
   "id": "44134804",
   "metadata": {},
   "outputs": [
    {
     "data": {
      "text/plain": [
       "['c', 'c++', 'java', 'python', 'golang', 'julia']"
      ]
     },
     "execution_count": 53,
     "metadata": {},
     "output_type": "execute_result"
    }
   ],
   "source": [
    "lang"
   ]
  },
  {
   "cell_type": "code",
   "execution_count": 54,
   "id": "3fde22d0",
   "metadata": {},
   "outputs": [
    {
     "data": {
      "text/plain": [
       "list"
      ]
     },
     "execution_count": 54,
     "metadata": {},
     "output_type": "execute_result"
    }
   ],
   "source": [
    "type(lang)"
   ]
  },
  {
   "cell_type": "code",
   "execution_count": 55,
   "id": "c2070f6a",
   "metadata": {},
   "outputs": [],
   "source": [
    "x=set(lang)"
   ]
  },
  {
   "cell_type": "code",
   "execution_count": 56,
   "id": "932d543f",
   "metadata": {},
   "outputs": [
    {
     "data": {
      "text/plain": [
       "{'c', 'c++', 'golang', 'java', 'julia', 'python'}"
      ]
     },
     "execution_count": 56,
     "metadata": {},
     "output_type": "execute_result"
    }
   ],
   "source": [
    "x"
   ]
  },
  {
   "cell_type": "code",
   "execution_count": 57,
   "id": "c61fb7cd",
   "metadata": {},
   "outputs": [
    {
     "data": {
      "text/plain": [
       "set"
      ]
     },
     "execution_count": 57,
     "metadata": {},
     "output_type": "execute_result"
    }
   ],
   "source": [
    "type(x)"
   ]
  },
  {
   "cell_type": "code",
   "execution_count": 58,
   "id": "914ceb59",
   "metadata": {},
   "outputs": [],
   "source": [
    "lang.append('python')"
   ]
  },
  {
   "cell_type": "code",
   "execution_count": 59,
   "id": "f5bc2dff",
   "metadata": {},
   "outputs": [],
   "source": [
    "lang.append('java')"
   ]
  },
  {
   "cell_type": "code",
   "execution_count": 60,
   "id": "eee3779d",
   "metadata": {},
   "outputs": [],
   "source": [
    "lang.append('rust')"
   ]
  },
  {
   "cell_type": "code",
   "execution_count": 61,
   "id": "695239d4",
   "metadata": {},
   "outputs": [
    {
     "data": {
      "text/plain": [
       "['c', 'c++', 'java', 'python', 'golang', 'julia', 'python', 'java', 'rust']"
      ]
     },
     "execution_count": 61,
     "metadata": {},
     "output_type": "execute_result"
    }
   ],
   "source": [
    "lang"
   ]
  },
  {
   "cell_type": "code",
   "execution_count": 62,
   "id": "eaecdc9d",
   "metadata": {},
   "outputs": [],
   "source": [
    "x=set(lang)"
   ]
  },
  {
   "cell_type": "code",
   "execution_count": 63,
   "id": "b2d36260",
   "metadata": {},
   "outputs": [
    {
     "data": {
      "text/plain": [
       "{'c', 'c++', 'golang', 'java', 'julia', 'python', 'rust'}"
      ]
     },
     "execution_count": 63,
     "metadata": {},
     "output_type": "execute_result"
    }
   ],
   "source": [
    "x # set has only unque values not duplication"
   ]
  },
  {
   "cell_type": "code",
   "execution_count": 64,
   "id": "f4a67ece",
   "metadata": {},
   "outputs": [],
   "source": [
    "team = ('aus','nz','uk','us','ind')"
   ]
  },
  {
   "cell_type": "code",
   "execution_count": 65,
   "id": "aa9c6a74",
   "metadata": {},
   "outputs": [
    {
     "data": {
      "text/plain": [
       "('aus', 'nz', 'uk', 'us', 'ind')"
      ]
     },
     "execution_count": 65,
     "metadata": {},
     "output_type": "execute_result"
    }
   ],
   "source": [
    "team"
   ]
  },
  {
   "cell_type": "code",
   "execution_count": 66,
   "id": "56812ba1",
   "metadata": {},
   "outputs": [
    {
     "data": {
      "text/plain": [
       "tuple"
      ]
     },
     "execution_count": 66,
     "metadata": {},
     "output_type": "execute_result"
    }
   ],
   "source": [
    "type(team)"
   ]
  },
  {
   "cell_type": "code",
   "execution_count": 67,
   "id": "d8400016",
   "metadata": {},
   "outputs": [],
   "source": [
    "y=set(team)"
   ]
  },
  {
   "cell_type": "code",
   "execution_count": 68,
   "id": "8bf1081c",
   "metadata": {},
   "outputs": [
    {
     "data": {
      "text/plain": [
       "{'aus', 'ind', 'nz', 'uk', 'us'}"
      ]
     },
     "execution_count": 68,
     "metadata": {},
     "output_type": "execute_result"
    }
   ],
   "source": [
    "y"
   ]
  },
  {
   "cell_type": "code",
   "execution_count": 69,
   "id": "72951bf0",
   "metadata": {},
   "outputs": [
    {
     "data": {
      "text/plain": [
       "set"
      ]
     },
     "execution_count": 69,
     "metadata": {},
     "output_type": "execute_result"
    }
   ],
   "source": [
    "type(y)"
   ]
  },
  {
   "cell_type": "code",
   "execution_count": 70,
   "id": "0c591559",
   "metadata": {},
   "outputs": [],
   "source": [
    "z=()"
   ]
  },
  {
   "cell_type": "code",
   "execution_count": 71,
   "id": "8c9a5dfc",
   "metadata": {},
   "outputs": [
    {
     "data": {
      "text/plain": [
       "tuple"
      ]
     },
     "execution_count": 71,
     "metadata": {},
     "output_type": "execute_result"
    }
   ],
   "source": [
    "type(z)"
   ]
  },
  {
   "cell_type": "code",
   "execution_count": 72,
   "id": "86cec5a3",
   "metadata": {},
   "outputs": [],
   "source": [
    "z={}"
   ]
  },
  {
   "cell_type": "code",
   "execution_count": 73,
   "id": "08744f00",
   "metadata": {},
   "outputs": [
    {
     "data": {
      "text/plain": [
       "dict"
      ]
     },
     "execution_count": 73,
     "metadata": {},
     "output_type": "execute_result"
    }
   ],
   "source": [
    "type(z)"
   ]
  },
  {
   "cell_type": "code",
   "execution_count": 77,
   "id": "7e39fd59",
   "metadata": {},
   "outputs": [],
   "source": [
    "z=set()"
   ]
  },
  {
   "cell_type": "code",
   "execution_count": 78,
   "id": "4c23b006",
   "metadata": {},
   "outputs": [
    {
     "data": {
      "text/plain": [
       "set"
      ]
     },
     "execution_count": 78,
     "metadata": {},
     "output_type": "execute_result"
    }
   ],
   "source": [
    "type(z)"
   ]
  },
  {
   "cell_type": "code",
   "execution_count": 79,
   "id": "e331d92a",
   "metadata": {},
   "outputs": [
    {
     "ename": "AttributeError",
     "evalue": "'set' object has no attribute 'append'",
     "output_type": "error",
     "traceback": [
      "\u001b[1;31m---------------------------------------------------------------------------\u001b[0m",
      "\u001b[1;31mAttributeError\u001b[0m                            Traceback (most recent call last)",
      "Input \u001b[1;32mIn [79]\u001b[0m, in \u001b[0;36m<cell line: 1>\u001b[1;34m()\u001b[0m\n\u001b[1;32m----> 1\u001b[0m \u001b[43mz\u001b[49m\u001b[38;5;241;43m.\u001b[39;49m\u001b[43mappend\u001b[49m(\u001b[38;5;241m10\u001b[39m)\n",
      "\u001b[1;31mAttributeError\u001b[0m: 'set' object has no attribute 'append'"
     ]
    }
   ],
   "source": [
    "z.append(10)"
   ]
  },
  {
   "cell_type": "code",
   "execution_count": 80,
   "id": "2d1fd0e4",
   "metadata": {},
   "outputs": [],
   "source": [
    "z.add(10)"
   ]
  },
  {
   "cell_type": "code",
   "execution_count": 81,
   "id": "b28ba677",
   "metadata": {},
   "outputs": [
    {
     "data": {
      "text/plain": [
       "{10}"
      ]
     },
     "execution_count": 81,
     "metadata": {},
     "output_type": "execute_result"
    }
   ],
   "source": [
    "z"
   ]
  },
  {
   "cell_type": "code",
   "execution_count": 82,
   "id": "6cb3a0e3",
   "metadata": {},
   "outputs": [],
   "source": [
    "z.add(\"john\")"
   ]
  },
  {
   "cell_type": "code",
   "execution_count": 83,
   "id": "9d505e0f",
   "metadata": {},
   "outputs": [
    {
     "data": {
      "text/plain": [
       "{10, 'john'}"
      ]
     },
     "execution_count": 83,
     "metadata": {},
     "output_type": "execute_result"
    }
   ],
   "source": [
    "z"
   ]
  },
  {
   "cell_type": "code",
   "execution_count": 84,
   "id": "53a24781",
   "metadata": {},
   "outputs": [],
   "source": [
    "z.add((1,10))"
   ]
  },
  {
   "cell_type": "code",
   "execution_count": 85,
   "id": "fb029452",
   "metadata": {},
   "outputs": [
    {
     "data": {
      "text/plain": [
       "{(1, 10), 10, 'john'}"
      ]
     },
     "execution_count": 85,
     "metadata": {},
     "output_type": "execute_result"
    }
   ],
   "source": [
    "z"
   ]
  },
  {
   "cell_type": "code",
   "execution_count": 86,
   "id": "b04e27d8",
   "metadata": {},
   "outputs": [
    {
     "ename": "TypeError",
     "evalue": "unhashable type: 'list'",
     "output_type": "error",
     "traceback": [
      "\u001b[1;31m---------------------------------------------------------------------------\u001b[0m",
      "\u001b[1;31mTypeError\u001b[0m                                 Traceback (most recent call last)",
      "Input \u001b[1;32mIn [86]\u001b[0m, in \u001b[0;36m<cell line: 1>\u001b[1;34m()\u001b[0m\n\u001b[1;32m----> 1\u001b[0m \u001b[43mz\u001b[49m\u001b[38;5;241;43m.\u001b[39;49m\u001b[43madd\u001b[49m\u001b[43m(\u001b[49m\u001b[43m[\u001b[49m\u001b[38;5;124;43m'\u001b[39;49m\u001b[38;5;124;43ma\u001b[39;49m\u001b[38;5;124;43m'\u001b[39;49m\u001b[43m,\u001b[49m\u001b[38;5;124;43m'\u001b[39;49m\u001b[38;5;124;43mb\u001b[39;49m\u001b[38;5;124;43m'\u001b[39;49m\u001b[43m]\u001b[49m\u001b[43m)\u001b[49m\n",
      "\u001b[1;31mTypeError\u001b[0m: unhashable type: 'list'"
     ]
    }
   ],
   "source": [
    "z.add(['a','b'])"
   ]
  },
  {
   "cell_type": "code",
   "execution_count": 87,
   "id": "afdfa43a",
   "metadata": {},
   "outputs": [],
   "source": [
    "# Tupple should have only immutable elements\n",
    "# User can modify the elements but tuples contaion only immutalbe elements\n",
    "# user cannot add a list or a dictonry to a tupple"
   ]
  },
  {
   "cell_type": "code",
   "execution_count": 88,
   "id": "a688e82b",
   "metadata": {},
   "outputs": [],
   "source": [
    "z.add((1,10))"
   ]
  },
  {
   "cell_type": "code",
   "execution_count": 89,
   "id": "0f41b516",
   "metadata": {},
   "outputs": [
    {
     "data": {
      "text/plain": [
       "{(1, 10), 10, 'john'}"
      ]
     },
     "execution_count": 89,
     "metadata": {},
     "output_type": "execute_result"
    }
   ],
   "source": [
    "z"
   ]
  },
  {
   "cell_type": "code",
   "execution_count": 90,
   "id": "ca2c1f9e",
   "metadata": {},
   "outputs": [],
   "source": [
    "# Two tuples with same vaule will not added in the set"
   ]
  },
  {
   "cell_type": "code",
   "execution_count": 93,
   "id": "2209ca2a",
   "metadata": {},
   "outputs": [],
   "source": [
    "z.add((1,10,20))"
   ]
  },
  {
   "cell_type": "code",
   "execution_count": 94,
   "id": "f1188f98",
   "metadata": {},
   "outputs": [
    {
     "data": {
      "text/plain": [
       "{(1, 10), (1, 10, 20), 10, 'john'}"
      ]
     },
     "execution_count": 94,
     "metadata": {},
     "output_type": "execute_result"
    }
   ],
   "source": [
    "z # in this it will added as a tuples"
   ]
  },
  {
   "cell_type": "code",
   "execution_count": 95,
   "id": "6b371641",
   "metadata": {},
   "outputs": [],
   "source": [
    "z.remove((1,10))"
   ]
  },
  {
   "cell_type": "code",
   "execution_count": 96,
   "id": "0d58f614",
   "metadata": {},
   "outputs": [
    {
     "data": {
      "text/plain": [
       "{(1, 10, 20), 10, 'john'}"
      ]
     },
     "execution_count": 96,
     "metadata": {},
     "output_type": "execute_result"
    }
   ],
   "source": [
    "z"
   ]
  },
  {
   "cell_type": "code",
   "execution_count": null,
   "id": "4f129749",
   "metadata": {},
   "outputs": [],
   "source": []
  }
 ],
 "metadata": {
  "kernelspec": {
   "display_name": "Python 3 (ipykernel)",
   "language": "python",
   "name": "python3"
  },
  "language_info": {
   "codemirror_mode": {
    "name": "ipython",
    "version": 3
   },
   "file_extension": ".py",
   "mimetype": "text/x-python",
   "name": "python",
   "nbconvert_exporter": "python",
   "pygments_lexer": "ipython3",
   "version": "3.8.8"
  }
 },
 "nbformat": 4,
 "nbformat_minor": 5
}
